{
 "cells": [
  {
   "cell_type": "markdown",
   "metadata": {},
   "source": [
    "# 버거지수\n",
    "> 한 도시의 발전 수준은 `(버거킹의 개수 + 맥도날드의 개수 + KFC의 개수) / 롯데리아의 개수` 로 나타낼 수 있다고 한다.\n",
    ">\n",
    "> locationA 에 있는 딕셔너리를 인자로 받아 버거지수를 계산하는 함수를 만들고 호출하시오."
   ]
  },
  {
   "cell_type": "code",
   "execution_count": 1,
   "metadata": {},
   "outputs": [
    {
     "ename": "SyntaxError",
     "evalue": "invalid character in identifier (<ipython-input-1-f26019f58eeb>, line 11)",
     "output_type": "error",
     "traceback": [
      "\u001b[1;36m  File \u001b[1;32m\"<ipython-input-1-f26019f58eeb>\"\u001b[1;36m, line \u001b[1;32m11\u001b[0m\n\u001b[1;33m    ​\u001b[0m\n\u001b[1;37m    ^\u001b[0m\n\u001b[1;31mSyntaxError\u001b[0m\u001b[1;31m:\u001b[0m invalid character in identifier\n"
     ]
    }
   ],
   "source": [
    "\"\"\"\n",
    "버거 지수 출력하는 함수 만들기\n",
    "버거 지수 = (맥도날드 + 버거킹 + KFC / 롯데리아)\n",
    "\"\"\"\n",
    "locationA = {\n",
    "    'king': 2,\n",
    "    'mc': 4,\n",
    "    'kfc': 1,\n",
    "    'ria': 3\n",
    "}\n",
    "​\n",
    "def burger_ratio(dicts):\n",
    "    total = 0\n",
    "    for key, value in dicts.items():\n",
    "        if key != 'ria':\n",
    "            total += value\n",
    "        else:\n",
    "            value\n",
    "    return total / value\n",
    "​\n",
    "burger_ratio(locationA)"
   ]
  },
  {
   "cell_type": "code",
   "execution_count": 10,
   "metadata": {},
   "outputs": [
    {
     "data": {
      "text/plain": [
       "2.3333333333333335"
      ]
     },
     "execution_count": 10,
     "metadata": {},
     "output_type": "execute_result"
    }
   ],
   "source": [
    "locationA = {\n",
    "    'king': 2,\n",
    "    'mc': 4,\n",
    "    'kfc': 1,\n",
    "    'ria': 3\n",
    "}\n",
    "\n",
    "def burger(king, mc, kfc, ria):\n",
    "    return (king + mc + kfc) / ria\n",
    "    \n",
    "burger(**locationA)\n",
    "\n",
    "\n",
    "\n",
    "# 아래에 코드를 작성하세요."
   ]
  },
  {
   "cell_type": "markdown",
   "metadata": {},
   "source": [
    "# 종합소득세 계산하기\n",
    "> A라는 나라에서 종합소득세는 과세표준 금액 구간에 따라 다른 세율이 적용됩니다.\n",
    "\n",
    "|과세표준액|세율|\n",
    "|-------|---|\n",
    "|1,200이하|6%|\n",
    "|1,200 ~ 4,600|15%|\n",
    "|4,600 ~ |35%|\n",
    "\n",
    "```\n",
    "즉, 1,300원을 벌었을 경우 1,200\\*0.06 + 100\\*0.15를 계산한 결과가 납부해야 하는 세액입니다.\n",
    "\n",
    "함수 tax를 만들고 납부해야하는 세금의 결과를 반환하는 함수를 만들어보세요.\n",
    "```"
   ]
  },
  {
   "cell_type": "code",
   "execution_count": null,
   "metadata": {},
   "outputs": [],
   "source": []
  },
  {
   "cell_type": "code",
   "execution_count": 23,
   "metadata": {},
   "outputs": [
    {
     "name": "stdout",
     "output_type": "stream",
     "text": [
      "342.0\n",
      "342.0\n"
     ]
    }
   ],
   "source": [
    "# 아래에 코드를 작성하세요\n",
    "\n",
    "# 나\n",
    "def tax(money):\n",
    "    if money > 4600 :\n",
    "        return 1200*0.06 + 3400*0.15 + (money-4600)*0.35\n",
    "    elif money > 1200:\n",
    "        return 1200*0.06 + (money-1200)*0.15\n",
    "    else:\n",
    "        return money*0.06\n",
    "\n",
    "print(tax(3000))  \n",
    "\n",
    "\n",
    "# 쌤                                                                        \n",
    "def tax(money):\n",
    "    if money > 4600 :\n",
    "        result = 1200*0.06 + 3400*0.15 + (money-4600)*0.35\n",
    "    elif money > 1200:\n",
    "        result = 1200*0.06 + (money-1200)*0.15\n",
    "    else:\n",
    "        result = money*0.06\n",
    "    return result\n",
    "\n",
    "print(tax(3000))  \n",
    "    "
   ]
  },
  {
   "cell_type": "markdown",
   "metadata": {},
   "source": [
    "# 텔레그램 챗봇\n",
    "\n",
    "> 텔레그램 메신져를 이용하여 챗봇을 개발하려고한다.\n",
    ">\n",
    "> api를 사용하기 위해 공식문서를 찾아보니 `https://api.telegram.org/bot<token>/METHOD_NAME`와 같은 경로로 \n",
    ">\n",
    "> token과 사용할 method의 이름을 넣어서 요청으로 보내라고 한다.\n",
    ">\n",
    "> 사용자에게 토큰과 사용할 메소드 이름을 받아 url을 만들어주는 함수를 만들어보시오.\n",
    ">\n",
    "> 개발자가 발급받은 토큰은 길이가 41자 라는 규칙을 따른다. 사용자가 잘못된 토큰을 넣었다면 '403'을 반환하시오\n",
    "\n",
    "```\n",
    "예시)\n",
    "https://api.telegram.org/bot123456:ABC-DEF1234ghIkl-zyx57W2v1u123ew11/getMe\n",
    "```"
   ]
  },
  {
   "cell_type": "code",
   "execution_count": 19,
   "metadata": {},
   "outputs": [
    {
     "data": {
      "text/plain": [
       "'https://api.telegram.org/bot<token>/METHOD_NAME123456:ABC-DEF1234ghIkl-zyx57W2v1u123ew11/getMe'"
      ]
     },
     "execution_count": 19,
     "metadata": {},
     "output_type": "execute_result"
    }
   ],
   "source": [
    "# 아래에 코드를 작성하세요\n",
    "\n",
    "def tele(token, method):\n",
    "    base_url = 'https://api.telegram.org/bot<token>/METHOD_NAME'\n",
    "    if len(token) != 41:\n",
    "        return 403\n",
    "    return f'{base_url}{token}/{method}'\n",
    "\n",
    "    \n",
    "tele('123123:afjio;wef', 'getMe')\n",
    "tele('123456:ABC-DEF1234ghIkl-zyx57W2v1u123ew11', 'getMe')"
   ]
  },
  {
   "cell_type": "markdown",
   "metadata": {},
   "source": [
    "# 솔로 천국\n",
    "> 리스트가 주어집니다. 리스트의 각 요소는 숫자 0부터 9까지로 이루어져 있습니다.\n",
    "> \n",
    "> 이때, 리스트에서 연속적으로 나타나는 숫자는 하나만 남기고 전부 제거하려고 합니다.\n",
    "> \n",
    "> 리스트에서 연속적으로 나타나는 숫자는 제거하고 남은 수들을 반환하는 lonely 함수를 작성해 주세요.\n",
    "> \n",
    "> 단, 제거된 후 남은 수들을 반환할 때는 리스트의 요소들의 순서를 유지해야 합니다.\n",
    "\n",
    "```\n",
    "예시)\n",
    "\n",
    "lonely([1, 1, 3, 3, 0, 1, 1]) #=> [1, 3, 0, 1]\n",
    "lonely([4,4,4,3,3]) #=> [4,3]\n",
    "```"
   ]
  },
  {
   "cell_type": "code",
   "execution_count": null,
   "metadata": {},
   "outputs": [],
   "source": []
  },
  {
   "cell_type": "code",
   "execution_count": 22,
   "metadata": {},
   "outputs": [
    {
     "name": "stdout",
     "output_type": "stream",
     "text": [
      "[1, 3, 0, 1]\n",
      "[4, 3]\n"
     ]
    }
   ],
   "source": [
    "# 여기에 코드를 작성하세요\n",
    "\n",
    "# 내가 잘못한 코드\n",
    "# def lonely(nums):\n",
    "#     blank = []\n",
    "#     for i in len(nums):\n",
    "#         for num in nums:\n",
    "#             if nums[i] not in black:\n",
    "#                 blank += num[i]\n",
    "#             else:\n",
    "#                 pass\n",
    "    \n",
    "#     return blank\n",
    "\n",
    "# a = [1, 1, 3, 3, 0, 1, 1]\n",
    "# len(a)\n",
    "\n",
    "\n",
    "def lonely(couple):\n",
    "    solo = []\n",
    "    for item in couple:\n",
    "        if not solo:\n",
    "            solo.append(item)\n",
    "        if solo[-1] != item:\n",
    "            solo.append(item)\n",
    "    return solo\n",
    "            \n",
    "\n",
    "print(lonely([1, 1, 3, 3, 0, 1, 1]))\n",
    "print(lonely([4,4,4,3,3]))"
   ]
  },
  {
   "cell_type": "code",
   "execution_count": null,
   "metadata": {},
   "outputs": [],
   "source": []
  },
  {
   "cell_type": "code",
   "execution_count": null,
   "metadata": {},
   "outputs": [],
   "source": []
  }
 ],
 "metadata": {
  "kernelspec": {
   "display_name": "Python 3",
   "language": "python",
   "name": "python3"
  },
  "language_info": {
   "codemirror_mode": {
    "name": "ipython",
    "version": 3
   },
   "file_extension": ".py",
   "mimetype": "text/x-python",
   "name": "python",
   "nbconvert_exporter": "python",
   "pygments_lexer": "ipython3",
   "version": "3.7.4"
  }
 },
 "nbformat": 4,
 "nbformat_minor": 2
}
