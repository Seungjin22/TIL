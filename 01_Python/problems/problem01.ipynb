{
 "cells": [
  {
   "cell_type": "markdown",
   "metadata": {},
   "source": [
    "## 자음 모음 count!!\n",
    "\n",
    "> 반복문과 조건문만 활용하여 사용자가 입력한 영어 단어의 자음과 모음을 세는 로직을 작성하세요.\n",
    "\n",
    "---\n",
    "\n",
    "```\n",
    "예시 입력)\n",
    "student\n",
    "\n",
    "예시 출력)\n",
    "vowels = 2\n",
    "consonants = 5\n",
    "```"
   ]
  },
  {
   "cell_type": "code",
   "execution_count": 4,
   "metadata": {},
   "outputs": [
    {
     "name": "stdout",
     "output_type": "stream",
     "text": [
      "영어 단어를 입력하세요: Student\n",
      "vowels = 2\n",
      "consonants = 5\n"
     ]
    }
   ],
   "source": [
    "vowels = ['A', 'E', 'I', 'O', 'U', 'a', 'e', 'i', 'o', 'u']\n",
    "vow = 0\n",
    "con = 0\n",
    "\n",
    "word = input('영어 단어를 입력하세요: ')\n",
    "for i in word:\n",
    "    if i in vowels:\n",
    "        vow += 1\n",
    "    else:\n",
    "        con += 1\n",
    "        \n",
    "print(f'vowels = {vow}\\nconsonants = {con}')"
   ]
  },
  {
   "cell_type": "markdown",
   "metadata": {},
   "source": [
    "# 상승장? 하락장?\n",
    "\n",
    "> 최고가와 최저가의 차이를 변동폭으로 정의할 때 (시가 + 변동폭)이 최고가 보다 높을 경우 \"상승장\", 그렇지 않은 경우 \"하락장\" 문자열을 출력하라.\n",
    "\n",
    "|Key Name|Description|\n",
    "|------|---|\n",
    "|opeing_price|최근 24시간 내 시작 거래금액|\n",
    "|closing_price|최근 24시간 내 마지막 거래금액|\n",
    "|min_price|최근 24시간 내 최저 거래금액|\n",
    "|max_price|최근 24시간 내 최고 거래금액|"
   ]
  },
  {
   "cell_type": "code",
   "execution_count": 32,
   "metadata": {
    "scrolled": true
   },
   "outputs": [
    {
     "name": "stdout",
     "output_type": "stream",
     "text": [
      "{'opening_price': '11239000', 'closing_price': '11698000', 'min_price': '10870000', 'max_price': '12000000', 'average_price': '11498243.9126', 'units_traded': '16552.72808504', 'volume_1day': '16552.72808504', 'volume_7day': '96017.53190763', 'buy_price': '11686000', 'sell_price': '11698000', '24H_fluctate': '459000', '24H_fluctate_rate': '4.08', 'date': '1563419198278'}\n"
     ]
    }
   ],
   "source": [
    "import requests\n",
    "\n",
    "url = \"https://api.bithumb.com/public/ticker/btc\"\n",
    "data = requests.get(url).json()['data']\n",
    "print(data)"
   ]
  },
  {
   "cell_type": "code",
   "execution_count": 35,
   "metadata": {},
   "outputs": [
    {
     "name": "stdout",
     "output_type": "stream",
     "text": [
      "상승장\n"
     ]
    }
   ],
   "source": [
    "maxi = float(data.get('max_price'))\n",
    "mini = float(data.get('min_price'))\n",
    "\n",
    "coin_range = maxi - mini\n",
    "\n",
    "start_price = float(data['opening_price'])\n",
    "\n",
    "if start_price + coin_range > maxi:\n",
    "    print('상승장')\n",
    "else:\n",
    "    print('하락장')"
   ]
  },
  {
   "cell_type": "code",
   "execution_count": 34,
   "metadata": {},
   "outputs": [
    {
     "name": "stdout",
     "output_type": "stream",
     "text": [
      "상승장\n"
     ]
    }
   ],
   "source": [
    "variation_depth = float(data['max_price']) - float(data['min_price'])\n",
    "\n",
    "if (float(data['opening_price']) + variation_depth) > float(data['max_price']):\n",
    "    print('상승장')\n",
    "else:\n",
    "    print('하락장')"
   ]
  },
  {
   "cell_type": "markdown",
   "metadata": {},
   "source": [
    "# 모음 제거하기\n",
    "\n",
    "> 다음 문장의 모음을 제거하여 출력하세요.\n",
    "\n",
    "```\n",
    "예시 입력)\n",
    "\"Life is too short, you need python\"\n",
    "예시 출력)\n",
    "Lf s t shrt, y nd pythn\n",
    "```"
   ]
  },
  {
   "cell_type": "code",
   "execution_count": 15,
   "metadata": {},
   "outputs": [
    {
     "name": "stdout",
     "output_type": "stream",
     "text": [
      "Lf s t shrt, y nd pythn"
     ]
    }
   ],
   "source": [
    "my_str = \"Life is too short, you need python\"\n",
    "vowels = ['A', 'E', 'I', 'O', 'U', 'a', 'e', 'i', 'o', 'u']\n",
    "\n",
    "for i in my_str:\n",
    "    if i in vowels:\n",
    "        i == ' '\n",
    "    else:\n",
    "        print(i, end='')"
   ]
  },
  {
   "cell_type": "code",
   "execution_count": 36,
   "metadata": {},
   "outputs": [
    {
     "name": "stdout",
     "output_type": "stream",
     "text": [
      "Lf s t shrt, y nd pythn\n"
     ]
    }
   ],
   "source": [
    "my_str = \"Life is too short, you need python\"\n",
    "vowels = ['A', 'E', 'I', 'O', 'U', 'a', 'e', 'i', 'o', 'u']\n",
    "\n",
    "for vowel in vowels:\n",
    "    my_str = my_str.replace(vowel, '')\n",
    "print(my_str)"
   ]
  },
  {
   "cell_type": "markdown",
   "metadata": {},
   "source": [
    "# 개인정보보호\n",
    "> 사용자의 핸드폰번호를 입력 받으려고한다. 개인정보 보호를 위하여 뒷자리 4자리를 제외하고는 마스킹 처리를 하려고한다.\n",
    ">\n",
    "> 핸드폰번호는 010으로 시작해야하고 11자리여야한다. 핸드폰번호를 입력하지 않았다면 \"핸드폰번호를 입력하세요\"를 출력한다\n",
    "\n",
    "```\n",
    "예시 입력)\n",
    "01012341234\n",
    "예시 출력)\n",
    "*******1234\n",
    "```"
   ]
  },
  {
   "cell_type": "code",
   "execution_count": 17,
   "metadata": {},
   "outputs": [
    {
     "name": "stdout",
     "output_type": "stream",
     "text": [
      "핸드폰 번호를 입력하세요: 01097786760\n",
      "*******6760"
     ]
    }
   ],
   "source": [
    "phone = input('핸드폰 번호를 입력하세요: ')\n",
    "\n",
    "for idx, value in enumerate(phone):\n",
    "    if idx < 7:\n",
    "        value = '*'\n",
    "    else:\n",
    "        value = value\n",
    "    print(value, end='')"
   ]
  },
  {
   "cell_type": "code",
   "execution_count": 41,
   "metadata": {},
   "outputs": [
    {
     "name": "stdout",
     "output_type": "stream",
     "text": [
      "01097786760\n",
      "*******6760\n"
     ]
    }
   ],
   "source": [
    "phone = input()\n",
    "\n",
    "if phone[0:3] == '010' and len(phone) == 11:\n",
    "    result = '*' * 7 + phone[-4:]\n",
    "    print(result)\n",
    "else:\n",
    "    print('핸드폰 번호를 입력해주세요.')"
   ]
  },
  {
   "cell_type": "markdown",
   "metadata": {},
   "source": [
    "# 정중앙\n",
    "> 사용자가 입력한 문자열중 가운데 글자를 출력하라. 문자열이 짝수라면 가운데 두글자를 출력하라\n",
    "\n",
    "```\n",
    "예시 입력)\n",
    "apple \n",
    "예시 출력)\n",
    "p\n",
    "\n",
    "예시 입력)\n",
    "levele\n",
    "예시 출력)\n",
    "ve\n",
    "```"
   ]
  },
  {
   "cell_type": "code",
   "execution_count": 43,
   "metadata": {},
   "outputs": [
    {
     "name": "stdout",
     "output_type": "stream",
     "text": [
      "문자열을 입력하세요: apple\n",
      "apple\n",
      "p\n"
     ]
    }
   ],
   "source": [
    "text = input('문자열을 입력하세요: ')\n",
    "\n",
    "print(text)\n",
    "if len(text) % 2:\n",
    "    print(text[int(len(text) / 2)]) \n",
    "else:\n",
    "    print(text[len(text) // 2 - 1], text[len(text) // 2], sep='')"
   ]
  },
  {
   "cell_type": "code",
   "execution_count": 45,
   "metadata": {},
   "outputs": [
    {
     "name": "stdout",
     "output_type": "stream",
     "text": [
      "문자열을 입력하세요: apple\n",
      "p\n"
     ]
    }
   ],
   "source": [
    "text = input('문자열을 입력하세요: ')\n",
    "\n",
    "num = len(text) // 2\n",
    "\n",
    "if len(text) % 2:\n",
    "    middle = text[num]\n",
    "    \n",
    "else:\n",
    "    middle = text[num-1 : num+1]\n",
    "    \n",
    "print(middle)"
   ]
  }
 ],
 "metadata": {
  "kernelspec": {
   "display_name": "Python 3",
   "language": "python",
   "name": "python3"
  },
  "language_info": {
   "codemirror_mode": {
    "name": "ipython",
    "version": 3
   },
   "file_extension": ".py",
   "mimetype": "text/x-python",
   "name": "python",
   "nbconvert_exporter": "python",
   "pygments_lexer": "ipython3",
   "version": "3.7.4"
  }
 },
 "nbformat": 4,
 "nbformat_minor": 2
}
