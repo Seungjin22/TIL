{
 "cells": [
  {
   "cell_type": "markdown",
   "metadata": {},
   "source": [
    "# 1. 문자열 메소드 활용하기"
   ]
  },
  {
   "cell_type": "markdown",
   "metadata": {},
   "source": [
    "## 1.1 변형\n",
    "\n",
    "### `.capitalize()`, `.title()`, `.upper()`\n",
    "\n",
    "`.capitalize()` : 가장 앞글자를 대문자로 만들어 반환합니다.\n",
    "\n",
    "`.title()` : 어포스트로피나 공백 이후를 대문자로 만들어 반환합니다.\n",
    "\n",
    "`.upper()` : 모두 대문자로 만들어 반환합니다."
   ]
  },
  {
   "cell_type": "code",
   "execution_count": 2,
   "metadata": {},
   "outputs": [],
   "source": [
    "words = \"hI! Everyone, I'm kim\"\n",
    "# 아래에 코드를 작성하세요."
   ]
  },
  {
   "cell_type": "code",
   "execution_count": 6,
   "metadata": {},
   "outputs": [
    {
     "name": "stdout",
     "output_type": "stream",
     "text": [
      "Hi! everyone, i'm kim\n",
      "Hi! Everyone, I'M Kim\n",
      "HI! EVERYONE, I'M KIM\n",
      "HI! EVERYONE, I'M KIM\n"
     ]
    }
   ],
   "source": [
    "print(words.capitalize())\n",
    "print(words.title())\n",
    "print(words.upper())\n",
    "\n",
    "result = words.upper()\n",
    "print(result)"
   ]
  },
  {
   "cell_type": "markdown",
   "metadata": {},
   "source": [
    "### `.lower()`, `.swapcase()`\n",
    "\n",
    "`.lower()` : 모두 소문자로 만들어 반환합니다.\n",
    "\n",
    "`.swapcase()` : 대 ↔ 소문자로 변경하여 반환합니다."
   ]
  },
  {
   "cell_type": "code",
   "execution_count": null,
   "metadata": {},
   "outputs": [],
   "source": [
    "words = \"hI! Everyone, I'm kim\"\n",
    "# 아래에 코드를 작성하세요."
   ]
  },
  {
   "cell_type": "code",
   "execution_count": 9,
   "metadata": {},
   "outputs": [
    {
     "name": "stdout",
     "output_type": "stream",
     "text": [
      "hi! everyone, i'm kim\n",
      "Hi! eVERYONE, i'M KIM\n"
     ]
    }
   ],
   "source": [
    "print(words.lower())\n",
    "print(words.swapcase())"
   ]
  },
  {
   "cell_type": "markdown",
   "metadata": {},
   "source": [
    "### `.join(iterable)`\n",
    "\n",
    "Iterable한 객체를 해당 문자열의 separator 로 합쳐서 문자열로 반환합니다.\n",
    "\n",
    "Iterable이란 for문 안에 넣고 돌릴 수 있는!"
   ]
  },
  {
   "cell_type": "code",
   "execution_count": null,
   "metadata": {},
   "outputs": [],
   "source": [
    "# 아래에 코드를 작성하세요."
   ]
  },
  {
   "cell_type": "code",
   "execution_count": 10,
   "metadata": {},
   "outputs": [
    {
     "data": {
      "text/plain": [
       "'배!고!파'"
      ]
     },
     "execution_count": 10,
     "metadata": {},
     "output_type": "execute_result"
    }
   ],
   "source": [
    "'!'.join('배고파')"
   ]
  },
  {
   "cell_type": "code",
   "execution_count": null,
   "metadata": {},
   "outputs": [],
   "source": [
    "# 이렇게도 사용할 수 있겠죠?"
   ]
  },
  {
   "cell_type": "code",
   "execution_count": 15,
   "metadata": {},
   "outputs": [
    {
     "data": {
      "text/plain": [
       "'1: 2: 3: 4: 5: 6: 7: 8: 9'"
      ]
     },
     "execution_count": 15,
     "metadata": {},
     "output_type": "execute_result"
    }
   ],
   "source": [
    "words = ['hi', 'hello']\n",
    "'!'.join(words)\n",
    "\n",
    "words = '1, 2, 3, 4, 5, 6, 7, 8, 9'\n",
    "words = words.split(',') # split의 역할은 ()안을 기준으로 쪼개서 리스트로 만들어줌\n",
    "words\n",
    "words = ':'.join(words)\n",
    "words"
   ]
  },
  {
   "cell_type": "markdown",
   "metadata": {},
   "source": [
    "### `.replace(old, new[, count])`\n",
    "\n",
    "바꿀 대상 글자를 새로운 글자로 바꿔서 반환합니다. \n",
    "\n",
    "count를 지정하면 해당 개수만큼만 시행합니다."
   ]
  },
  {
   "cell_type": "code",
   "execution_count": null,
   "metadata": {},
   "outputs": [],
   "source": [
    "# 아래에 코드를 작성하세요."
   ]
  },
  {
   "cell_type": "code",
   "execution_count": 18,
   "metadata": {},
   "outputs": [
    {
     "name": "stdout",
     "output_type": "stream",
     "text": [
      "나는 나를 사랑해\n"
     ]
    },
    {
     "data": {
      "text/plain": [
       "'abcdefghi'"
      ]
     },
     "execution_count": 18,
     "metadata": {},
     "output_type": "execute_result"
    }
   ],
   "source": [
    "a = '나는 너를 사랑해'\n",
    "result = a.replace('너', '나')\n",
    "print(result)\n",
    "'abcdefggg'.replace('ggg', 'ghi')"
   ]
  },
  {
   "cell_type": "code",
   "execution_count": 22,
   "metadata": {},
   "outputs": [
    {
     "data": {
      "text/plain": [
       "'Hi! Jutin'"
      ]
     },
     "execution_count": 22,
     "metadata": {},
     "output_type": "execute_result"
    }
   ],
   "source": [
    "'wooooowoo'.replace('o', '', 2)\n",
    "'Hi! Jusstin'.replace('s', '')"
   ]
  },
  {
   "cell_type": "markdown",
   "metadata": {},
   "source": [
    "### 글씨 제거 (`strip([chars])`)\n",
    "\n",
    "특정한 문자들을 지정하면,  양쪽을 제거하거나 왼쪽을 제거하거나(lstrip) 오른쪽을 제거합니다(rstrip)\n",
    "\n",
    "지정하지 않으면 공백을 제거합니다."
   ]
  },
  {
   "cell_type": "code",
   "execution_count": null,
   "metadata": {},
   "outputs": [],
   "source": [
    "# 아래에 코드를 작성하세요.(공백제거)"
   ]
  },
  {
   "cell_type": "code",
   "execution_count": 23,
   "metadata": {},
   "outputs": [
    {
     "data": {
      "text/plain": [
       "'oh!'"
      ]
     },
     "execution_count": 23,
     "metadata": {},
     "output_type": "execute_result"
    }
   ],
   "source": [
    "'     oh!\\n     '.strip()"
   ]
  },
  {
   "cell_type": "code",
   "execution_count": 25,
   "metadata": {
    "scrolled": true
   },
   "outputs": [
    {
     "data": {
      "text/plain": [
       "'oh!\\n     '"
      ]
     },
     "execution_count": 25,
     "metadata": {},
     "output_type": "execute_result"
    }
   ],
   "source": [
    "'     oh!\\n     '.lstrip()"
   ]
  },
  {
   "cell_type": "code",
   "execution_count": 26,
   "metadata": {
    "scrolled": true
   },
   "outputs": [
    {
     "data": {
      "text/plain": [
       "'     oh!'"
      ]
     },
     "execution_count": 26,
     "metadata": {},
     "output_type": "execute_result"
    }
   ],
   "source": [
    "'     oh!\\n     '.rstrip()"
   ]
  },
  {
   "cell_type": "code",
   "execution_count": null,
   "metadata": {},
   "outputs": [],
   "source": [
    "# 아래에 코드를 작성하세요.(단어제거)"
   ]
  },
  {
   "cell_type": "code",
   "execution_count": 31,
   "metadata": {
    "scrolled": true
   },
   "outputs": [
    {
     "data": {
      "text/plain": [
       "'ehe'"
      ]
     },
     "execution_count": 31,
     "metadata": {},
     "output_type": "execute_result"
    }
   ],
   "source": [
    "'hihihihihihihiheheihihihihihihihihi'.strip('hi')"
   ]
  },
  {
   "cell_type": "code",
   "execution_count": 32,
   "metadata": {
    "scrolled": false
   },
   "outputs": [
    {
     "data": {
      "text/plain": [
       "'eheihihihihihihihihi'"
      ]
     },
     "execution_count": 32,
     "metadata": {},
     "output_type": "execute_result"
    }
   ],
   "source": [
    "'hihihihihihihiheheihihihihihihihihi'.lstrip('hi')"
   ]
  },
  {
   "cell_type": "code",
   "execution_count": 33,
   "metadata": {
    "scrolled": false
   },
   "outputs": [
    {
     "data": {
      "text/plain": [
       "'hihihihihihihihehe'"
      ]
     },
     "execution_count": 33,
     "metadata": {},
     "output_type": "execute_result"
    }
   ],
   "source": [
    "'hihihihihihihiheheihihihihihihihihi'.rstrip('hi')"
   ]
  },
  {
   "cell_type": "markdown",
   "metadata": {},
   "source": [
    "## 1.2 탐색 및 검증\n",
    "\n",
    "### `.find(x)` : x의 첫 번째 위치를 반환합니다. 없으면, -1을 반환합니다."
   ]
  },
  {
   "cell_type": "code",
   "execution_count": null,
   "metadata": {},
   "outputs": [],
   "source": [
    "# 아래에 코드를 작성하세요."
   ]
  },
  {
   "cell_type": "code",
   "execution_count": 34,
   "metadata": {},
   "outputs": [
    {
     "data": {
      "text/plain": [
       "3"
      ]
     },
     "execution_count": 34,
     "metadata": {},
     "output_type": "execute_result"
    }
   ],
   "source": [
    "'apple'.find('l')"
   ]
  },
  {
   "cell_type": "code",
   "execution_count": 35,
   "metadata": {},
   "outputs": [
    {
     "data": {
      "text/plain": [
       "-1"
      ]
     },
     "execution_count": 35,
     "metadata": {},
     "output_type": "execute_result"
    }
   ],
   "source": [
    "'apple'.find('f') # 해당하는 글자가 없으니 -1 반환"
   ]
  },
  {
   "cell_type": "markdown",
   "metadata": {},
   "source": [
    "### `.index(x)` : x의 첫번째 위치를 반환합니다. 없으면, 오류가 발생합니다."
   ]
  },
  {
   "cell_type": "code",
   "execution_count": null,
   "metadata": {},
   "outputs": [],
   "source": [
    "# 아래에 코드를 작성하세요."
   ]
  },
  {
   "cell_type": "code",
   "execution_count": 36,
   "metadata": {},
   "outputs": [
    {
     "data": {
      "text/plain": [
       "3"
      ]
     },
     "execution_count": 36,
     "metadata": {},
     "output_type": "execute_result"
    }
   ],
   "source": [
    "'apple'.index('l')"
   ]
  },
  {
   "cell_type": "code",
   "execution_count": 37,
   "metadata": {},
   "outputs": [
    {
     "ename": "ValueError",
     "evalue": "substring not found",
     "output_type": "error",
     "traceback": [
      "\u001b[1;31m---------------------------------------------------------------------------\u001b[0m",
      "\u001b[1;31mValueError\u001b[0m                                Traceback (most recent call last)",
      "\u001b[1;32m<ipython-input-37-7109cbb83803>\u001b[0m in \u001b[0;36m<module>\u001b[1;34m\u001b[0m\n\u001b[1;32m----> 1\u001b[1;33m \u001b[1;34m'apple'\u001b[0m\u001b[1;33m.\u001b[0m\u001b[0mindex\u001b[0m\u001b[1;33m(\u001b[0m\u001b[1;34m'f'\u001b[0m\u001b[1;33m)\u001b[0m\u001b[1;33m\u001b[0m\u001b[1;33m\u001b[0m\u001b[0m\n\u001b[0m",
      "\u001b[1;31mValueError\u001b[0m: substring not found"
     ]
    }
   ],
   "source": [
    "'apple'.index('f')"
   ]
  },
  {
   "cell_type": "markdown",
   "metadata": {},
   "source": [
    "## `.split()`\n",
    "\n",
    "- 괄호 안에 특정 값이 있으면 그 값을 구분자로 해서 문자열을 나눠 **리스트**로 반환합니다.\n",
    "- 괄호 안에 아무 값도 넣어주지 않으면 공백(스페이스, 탭, enter)를 기준으로 문자열을 나눠 리스트로 반환합니다."
   ]
  },
  {
   "cell_type": "code",
   "execution_count": null,
   "metadata": {},
   "outputs": [],
   "source": [
    "# 아래에 코드를 작성하세요."
   ]
  },
  {
   "cell_type": "code",
   "execution_count": 38,
   "metadata": {},
   "outputs": [
    {
     "data": {
      "text/plain": [
       "['abc', 'def']"
      ]
     },
     "execution_count": 38,
     "metadata": {},
     "output_type": "execute_result"
    }
   ],
   "source": [
    "'abc def'.split()"
   ]
  },
  {
   "cell_type": "code",
   "execution_count": 39,
   "metadata": {},
   "outputs": [
    {
     "data": {
      "text/plain": [
       "['Hello', 'SSAFY']"
      ]
     },
     "execution_count": 39,
     "metadata": {},
     "output_type": "execute_result"
    }
   ],
   "source": [
    "'Hello SSAFY'.split() # split 기준을 아무것도 주지 않으면 공백을 기준으로 나눠서 리스트로."
   ]
  },
  {
   "cell_type": "code",
   "execution_count": 40,
   "metadata": {},
   "outputs": [
    {
     "data": {
      "text/plain": [
       "['a', 'b', 'c']"
      ]
     },
     "execution_count": 40,
     "metadata": {},
     "output_type": "execute_result"
    }
   ],
   "source": [
    "'a_b_c'.split('_')"
   ]
  },
  {
   "cell_type": "code",
   "execution_count": 43,
   "metadata": {},
   "outputs": [
    {
     "name": "stdout",
     "output_type": "stream",
     "text": [
      "오늘의 점심은 장각삼계탕 삼계탕 회냉면\n",
      "['오늘의', '점심은', '장각삼계탕', '삼계탕', '회냉면']\n"
     ]
    }
   ],
   "source": [
    "words = input().split()\n",
    "print(words)"
   ]
  },
  {
   "cell_type": "markdown",
   "metadata": {},
   "source": [
    "## 1.3 다양한 확인 메소드 : 참/거짓 반환\n",
    "```\n",
    ".isaplha(), .isdecimal(), .isdigit(), .isnumeric(), .isspace(), .isuper(), .istitle(), .islower()\n",
    "```\n",
    "\n",
    "```python\n",
    "dir('string')\n",
    "```"
   ]
  },
  {
   "cell_type": "code",
   "execution_count": 47,
   "metadata": {},
   "outputs": [
    {
     "data": {
      "text/plain": [
       "['__add__',\n",
       " '__class__',\n",
       " '__contains__',\n",
       " '__delattr__',\n",
       " '__dir__',\n",
       " '__doc__',\n",
       " '__eq__',\n",
       " '__format__',\n",
       " '__ge__',\n",
       " '__getattribute__',\n",
       " '__getitem__',\n",
       " '__getnewargs__',\n",
       " '__gt__',\n",
       " '__hash__',\n",
       " '__init__',\n",
       " '__init_subclass__',\n",
       " '__iter__',\n",
       " '__le__',\n",
       " '__len__',\n",
       " '__lt__',\n",
       " '__mod__',\n",
       " '__mul__',\n",
       " '__ne__',\n",
       " '__new__',\n",
       " '__reduce__',\n",
       " '__reduce_ex__',\n",
       " '__repr__',\n",
       " '__rmod__',\n",
       " '__rmul__',\n",
       " '__setattr__',\n",
       " '__sizeof__',\n",
       " '__str__',\n",
       " '__subclasshook__',\n",
       " 'capitalize',\n",
       " 'casefold',\n",
       " 'center',\n",
       " 'count',\n",
       " 'encode',\n",
       " 'endswith',\n",
       " 'expandtabs',\n",
       " 'find',\n",
       " 'format',\n",
       " 'format_map',\n",
       " 'index',\n",
       " 'isalnum',\n",
       " 'isalpha',\n",
       " 'isascii',\n",
       " 'isdecimal',\n",
       " 'isdigit',\n",
       " 'isidentifier',\n",
       " 'islower',\n",
       " 'isnumeric',\n",
       " 'isprintable',\n",
       " 'isspace',\n",
       " 'istitle',\n",
       " 'isupper',\n",
       " 'join',\n",
       " 'ljust',\n",
       " 'lower',\n",
       " 'lstrip',\n",
       " 'maketrans',\n",
       " 'partition',\n",
       " 'replace',\n",
       " 'rfind',\n",
       " 'rindex',\n",
       " 'rjust',\n",
       " 'rpartition',\n",
       " 'rsplit',\n",
       " 'rstrip',\n",
       " 'split',\n",
       " 'splitlines',\n",
       " 'startswith',\n",
       " 'strip',\n",
       " 'swapcase',\n",
       " 'title',\n",
       " 'translate',\n",
       " 'upper',\n",
       " 'zfill']"
      ]
     },
     "execution_count": 47,
     "metadata": {},
     "output_type": "execute_result"
    }
   ],
   "source": [
    "dir('string')"
   ]
  },
  {
   "cell_type": "code",
   "execution_count": 51,
   "metadata": {},
   "outputs": [
    {
     "name": "stdout",
     "output_type": "stream",
     "text": [
      "True\n",
      "False\n"
     ]
    }
   ],
   "source": [
    "a = '혜영이를사랑한승연외로운승연이의홀로사랑'\n",
    "b = '승진이는 모해?'\n",
    "\n",
    "print(a.isalpha())  # 글자가 다 붙어 있어야 글자로 인식\n",
    "print(b.isalpha())  # 공백이나 특수문자가 있으면 글자로 인식하지 X"
   ]
  },
  {
   "cell_type": "code",
   "execution_count": 53,
   "metadata": {},
   "outputs": [
    {
     "data": {
      "text/plain": [
       "True"
      ]
     },
     "execution_count": 53,
     "metadata": {},
     "output_type": "execute_result"
    }
   ],
   "source": [
    "a = 'Hi!, My name is Marlene!'\n",
    "a.islower() # is는 판단하는것. True/False로 나옴 소문자니? 놉!\n",
    "\n",
    "b = 'hi!, my name is marlene'\n",
    "b.islower()"
   ]
  },
  {
   "cell_type": "code",
   "execution_count": 54,
   "metadata": {},
   "outputs": [
    {
     "name": "stdout",
     "output_type": "stream",
     "text": [
      "False\n",
      "True\n"
     ]
    }
   ],
   "source": [
    "a = 'Hi, My name is Marlene'\n",
    "print(a.isupper())\n",
    "\n",
    "b = 'HI!, MY NAME IS MARLENE'\n",
    "print(b.isupper())"
   ]
  },
  {
   "cell_type": "code",
   "execution_count": 57,
   "metadata": {},
   "outputs": [
    {
     "name": "stdout",
     "output_type": "stream",
     "text": [
      "True\n",
      "Hello, World\n",
      "False\n"
     ]
    }
   ],
   "source": [
    "a = 'Hello, World'\n",
    "print(a.istitle())\n",
    "b = 'Hello, world'\n",
    "print(b.title())\n",
    "print(b.istitle())"
   ]
  },
  {
   "cell_type": "markdown",
   "metadata": {},
   "source": [
    "# 2. 리스트 메소드 활용하기\n",
    "\n",
    "## 2.1 값 추가 및 삭제\n",
    "\n",
    "### `.append(x)`\n",
    "\n",
    "리스트에 값을 추가할 수 있습니다."
   ]
  },
  {
   "cell_type": "code",
   "execution_count": 58,
   "metadata": {},
   "outputs": [
    {
     "name": "stdout",
     "output_type": "stream",
     "text": [
      "['starbucks', 'tomntoms', 'hollys']\n"
     ]
    }
   ],
   "source": [
    "# 카페 리스트를 만들어봅시다.\n",
    "caffe = ['starbucks', 'tomntoms', 'hollys']\n",
    "print(caffe)"
   ]
  },
  {
   "cell_type": "code",
   "execution_count": null,
   "metadata": {},
   "outputs": [],
   "source": [
    "# 값을 추가해봅시다."
   ]
  },
  {
   "cell_type": "code",
   "execution_count": 60,
   "metadata": {},
   "outputs": [
    {
     "name": "stdout",
     "output_type": "stream",
     "text": [
      "['starbucks', 'tomntoms', 'hollys', 'caffebene', 'caffebene']\n"
     ]
    }
   ],
   "source": [
    "caffe.append('caffebene')\n",
    "print(caffe)"
   ]
  },
  {
   "cell_type": "code",
   "execution_count": null,
   "metadata": {},
   "outputs": [],
   "source": [
    "# 어렵게 넣어보도록 해봅시다."
   ]
  },
  {
   "cell_type": "code",
   "execution_count": 71,
   "metadata": {},
   "outputs": [
    {
     "name": "stdout",
     "output_type": "stream",
     "text": [
      "[]\n",
      "['starbucks', 'tomntoms', 'hollys', 'caffebene', 'caffebene', 'ediya', 'ediya', 'ediya', 'ediya', 'ediya', 'ediya', 'ediya', 'ediya', 'ediya', 'ediya', 'ediya']\n"
     ]
    }
   ],
   "source": [
    "caffe[len(caffe):] = ['ediya']\n",
    "print(caffe[len(caffe):])\n",
    "print(caffe)"
   ]
  },
  {
   "cell_type": "markdown",
   "metadata": {},
   "source": [
    "### `.extend(iterable)`\n",
    "\n",
    "- 리스트에 iterable(list, range, tuple, string*유의*) 값을 붙일 수가 있습니다.\n",
    "\n",
    "    - `iterable` 은 각각의 요소를 하나씩 반환할 수 있는 객체를 말한다. List와 Tuple, Dictionary와 Set 등이 여기 속합니다. for문을 돌렸을 때 하나씩 튀어나오는 친구들!"
   ]
  },
  {
   "cell_type": "code",
   "execution_count": null,
   "metadata": {},
   "outputs": [],
   "source": [
    "# 앞서 만든 리스트에 추가해봅시다."
   ]
  },
  {
   "cell_type": "code",
   "execution_count": 72,
   "metadata": {},
   "outputs": [
    {
     "name": "stdout",
     "output_type": "stream",
     "text": [
      "['starbucks', 'tomntoms', 'hollys', 'caffebene', 'caffebene', 'ediya', 'ediya', 'ediya', 'ediya', 'ediya', 'ediya', 'ediya', 'ediya', 'ediya', 'ediya', 'ediya', 'droptop', '빽다방']\n"
     ]
    }
   ],
   "source": [
    "caffe.extend(['droptop', '빽다방'])\n",
    "print(caffe)"
   ]
  },
  {
   "cell_type": "code",
   "execution_count": null,
   "metadata": {},
   "outputs": [],
   "source": [
    "# 앞서 배운 list concatenate와 동일합니다."
   ]
  },
  {
   "cell_type": "code",
   "execution_count": 73,
   "metadata": {},
   "outputs": [
    {
     "name": "stdout",
     "output_type": "stream",
     "text": [
      "['starbucks', 'tomntoms', 'hollys', 'caffebene', 'caffebene', 'ediya', 'ediya', 'ediya', 'ediya', 'ediya', 'ediya', 'ediya', 'ediya', 'ediya', 'ediya', 'ediya', 'droptop', '빽다방', 'mccafe', 'burgerking']\n"
     ]
    }
   ],
   "source": [
    "caffe += ['mccafe', 'burgerking']\n",
    "print(caffe)"
   ]
  },
  {
   "cell_type": "code",
   "execution_count": null,
   "metadata": {},
   "outputs": [],
   "source": [
    "# append와 비교해봅시다."
   ]
  },
  {
   "cell_type": "code",
   "execution_count": 76,
   "metadata": {
    "scrolled": true
   },
   "outputs": [
    {
     "name": "stdout",
     "output_type": "stream",
     "text": [
      "['starbucks', 'tomntoms', 'hollys', 'caffebene', 'caffebene', 'ediya', 'ediya', 'ediya', 'ediya', 'ediya', 'ediya', 'ediya', 'ediya', 'ediya', 'ediya', 'ediya', 'droptop', '빽다방', 'mccafe', 'burgerking', ['coffenie'], ['coffenie'], 'coffeingurunaru', ['coffenie']]\n",
      "['starbucks', 'tomntoms', 'hollys', 'caffebene', 'caffebene', 'ediya', 'ediya', 'ediya', 'ediya', 'ediya', 'ediya', 'ediya', 'ediya', 'ediya', 'ediya', 'ediya', 'droptop', '빽다방', 'mccafe', 'burgerking', ['coffenie'], ['coffenie'], 'coffeingurunaru', ['coffenie'], 'coffeingurunaru']\n"
     ]
    }
   ],
   "source": [
    "# .append vs .extend\n",
    "\n",
    "#.append\n",
    "caffe.append(['coffenie']) # 또 하나의 리스트가 들어감\n",
    "print(caffe)\n",
    "\n",
    "#.extend\n",
    "caffe.extend(['coffeingurunaru']) # 리스트의 요소로 들어감\n",
    "print(caffe)"
   ]
  },
  {
   "cell_type": "code",
   "execution_count": null,
   "metadata": {},
   "outputs": [],
   "source": [
    "L = [1, 2, 3]\n",
    "\n",
    "L = L + [4]   # 이건 4라는 요소를 더 넣은 새로운 리스트를 만드는 것\n",
    "\n",
    "L.append(4)  # 이건 기존 리스트 L에 추가하는 것"
   ]
  },
  {
   "cell_type": "markdown",
   "metadata": {},
   "source": [
    "### `.insert(i, x)`\n",
    "\n",
    "정해진 위치 `i`에 값을 추가합니다. "
   ]
  },
  {
   "cell_type": "code",
   "execution_count": null,
   "metadata": {},
   "outputs": [],
   "source": [
    "# 앞서 만든 리스트의 가장 앞에 'hi'를 넣어봅시다."
   ]
  },
  {
   "cell_type": "code",
   "execution_count": 77,
   "metadata": {},
   "outputs": [],
   "source": [
    "caffe.insert(0, 'hi')\n",
    "print(caffe)"
   ]
  },
  {
   "cell_type": "code",
   "execution_count": null,
   "metadata": {},
   "outputs": [],
   "source": [
    "# 앞서 만든 리스트의 가장 뒤에 'bye'를 넣어봅시다"
   ]
  },
  {
   "cell_type": "code",
   "execution_count": 79,
   "metadata": {},
   "outputs": [
    {
     "name": "stdout",
     "output_type": "stream",
     "text": [
      "['hi', 'starbucks', 'tomntoms', 'hollys', 'caffebene', 'caffebene', 'ediya', 'ediya', 'ediya', 'ediya', 'ediya', 'ediya', 'ediya', 'ediya', 'ediya', 'ediya', 'ediya', 'droptop', '빽다방', 'mccafe', 'burgerking', ['coffenie'], ['coffenie'], 'coffeingurunaru', ['coffenie'], 'coffeingurunaru', 'bye']\n"
     ]
    }
   ],
   "source": [
    "caffe.insert(len(caffe), 'bye')\n",
    "print(caffe)"
   ]
  },
  {
   "cell_type": "code",
   "execution_count": null,
   "metadata": {},
   "outputs": [],
   "source": [
    "# 길이를 넘어서는 인덱스는 무조건 마지막 붙습니다!"
   ]
  },
  {
   "cell_type": "code",
   "execution_count": 81,
   "metadata": {
    "scrolled": true
   },
   "outputs": [
    {
     "name": "stdout",
     "output_type": "stream",
     "text": [
      "['hi', 'starbucks', 'tomntoms', 'hollys', 'caffebene', 'caffebene', 'ediya', 'ediya', 'ediya', 'ediya', 'ediya', 'ediya', 'ediya', 'ediya', 'ediya', 'ediya', 'ediya', 'droptop', '빽다방', 'mccafe', 'burgerking', ['coffenie'], ['coffenie'], 'coffeingurunaru', ['coffenie'], 'coffeingurunaru', 'bye', '!!!!!', '!!!!!']\n"
     ]
    }
   ],
   "source": [
    "caffe.insert(len(caffe)+4, '!!!!!')\n",
    "print(caffe)"
   ]
  },
  {
   "cell_type": "code",
   "execution_count": 83,
   "metadata": {},
   "outputs": [
    {
     "name": "stdout",
     "output_type": "stream",
     "text": [
      "[1, 2, 3, 4, 5, 7]\n"
     ]
    }
   ],
   "source": [
    "samples = [1, 2, 3, 4, 5]\n",
    "\n",
    "samples.insert(5, 7)\n",
    "print(samples)"
   ]
  },
  {
   "cell_type": "markdown",
   "metadata": {},
   "source": [
    "### `.remove(x)`\n",
    "\n",
    "리스트에서 값이 x인 것을 삭제합니다. "
   ]
  },
  {
   "cell_type": "code",
   "execution_count": 84,
   "metadata": {},
   "outputs": [
    {
     "name": "stdout",
     "output_type": "stream",
     "text": [
      "[1, 2, 3, 1, 2]\n"
     ]
    }
   ],
   "source": [
    "# remove를 사용해봅시다.\n",
    "numbers = [1, 2, 3, 1, 2]\n",
    "print(numbers)"
   ]
  },
  {
   "cell_type": "code",
   "execution_count": null,
   "metadata": {},
   "outputs": [],
   "source": [
    "# 중복된 값 1을 삭제 해봅시다."
   ]
  },
  {
   "cell_type": "code",
   "execution_count": 85,
   "metadata": {},
   "outputs": [
    {
     "name": "stdout",
     "output_type": "stream",
     "text": [
      "[2, 3, 1, 2]\n"
     ]
    }
   ],
   "source": [
    "numbers.remove(1)\n",
    "print(numbers)"
   ]
  },
  {
   "cell_type": "code",
   "execution_count": null,
   "metadata": {},
   "outputs": [],
   "source": [
    "# 한번 더 삭제해봅시다."
   ]
  },
  {
   "cell_type": "code",
   "execution_count": 86,
   "metadata": {},
   "outputs": [
    {
     "name": "stdout",
     "output_type": "stream",
     "text": [
      "[2, 3, 2]\n"
     ]
    }
   ],
   "source": [
    "numbers.remove(1)\n",
    "print(numbers)"
   ]
  },
  {
   "cell_type": "code",
   "execution_count": null,
   "metadata": {},
   "outputs": [],
   "source": [
    "# remove는 값이 없으면 오류가 발생합니다. 확인해봅시다."
   ]
  },
  {
   "cell_type": "code",
   "execution_count": 87,
   "metadata": {},
   "outputs": [
    {
     "ename": "ValueError",
     "evalue": "list.remove(x): x not in list",
     "output_type": "error",
     "traceback": [
      "\u001b[1;31m---------------------------------------------------------------------------\u001b[0m",
      "\u001b[1;31mValueError\u001b[0m                                Traceback (most recent call last)",
      "\u001b[1;32m<ipython-input-87-7722b5c1ffe7>\u001b[0m in \u001b[0;36m<module>\u001b[1;34m\u001b[0m\n\u001b[1;32m----> 1\u001b[1;33m \u001b[0mnumbers\u001b[0m\u001b[1;33m.\u001b[0m\u001b[0mremove\u001b[0m\u001b[1;33m(\u001b[0m\u001b[1;36m1\u001b[0m\u001b[1;33m)\u001b[0m\u001b[1;33m\u001b[0m\u001b[1;33m\u001b[0m\u001b[0m\n\u001b[0m",
      "\u001b[1;31mValueError\u001b[0m: list.remove(x): x not in list"
     ]
    }
   ],
   "source": [
    "numbers.remove(1)"
   ]
  },
  {
   "cell_type": "markdown",
   "metadata": {},
   "source": [
    "### `.pop(i)`\n",
    "\n",
    "정해진 위치 `i`에 있는 값을 삭제하며, 그 항목을 반환합니다.\n",
    "\n",
    "`i`가 지정되지 않으면 마지막 항목을 삭제하고 되돌려줍니다."
   ]
  },
  {
   "cell_type": "code",
   "execution_count": 88,
   "metadata": {},
   "outputs": [],
   "source": [
    "# pop을 사용해봅시다.\n",
    "numbers = [1, 2, 3, 4, 5, 6]"
   ]
  },
  {
   "cell_type": "code",
   "execution_count": null,
   "metadata": {},
   "outputs": [],
   "source": [
    "# 가장 앞에 있는 것을 삭제해봅시다. return도 확인해보세요."
   ]
  },
  {
   "cell_type": "code",
   "execution_count": 92,
   "metadata": {},
   "outputs": [
    {
     "name": "stdout",
     "output_type": "stream",
     "text": [
      "4\n",
      "[5]\n",
      "5\n",
      "[]\n"
     ]
    }
   ],
   "source": [
    "print(numbers.pop(0))\n",
    "print(numbers)\n",
    "print(numbers.pop())\n",
    "print(numbers)"
   ]
  },
  {
   "cell_type": "code",
   "execution_count": null,
   "metadata": {},
   "outputs": [],
   "source": [
    "# 값이 return이 된다는 것은 별도의 변수에 저장할 수 있다는 것입니다. "
   ]
  },
  {
   "cell_type": "code",
   "execution_count": 94,
   "metadata": {},
   "outputs": [
    {
     "name": "stdout",
     "output_type": "stream",
     "text": [
      "3(이)가 삭제되어 [1, 2]가 되었습니다.\n"
     ]
    }
   ],
   "source": [
    "numbers = [1, 2, 3]\n",
    "delete_value = numbers.pop()\n",
    "print(f'{delete_value}(이)가 삭제되어 {numbers}가 되었습니다.')"
   ]
  },
  {
   "cell_type": "markdown",
   "metadata": {},
   "source": [
    "## 2.2 탐색 및 정렬"
   ]
  },
  {
   "cell_type": "markdown",
   "metadata": {},
   "source": [
    "### `.index(x)`\n",
    "\n",
    "x 값을 찾아 해당 index 값을 반환합니다."
   ]
  },
  {
   "cell_type": "code",
   "execution_count": 96,
   "metadata": {},
   "outputs": [],
   "source": [
    "# index를 사용해봅시다.\n",
    "numbers = [1, 2, 3, 4, 5]"
   ]
  },
  {
   "cell_type": "code",
   "execution_count": 97,
   "metadata": {},
   "outputs": [
    {
     "data": {
      "text/plain": [
       "2"
      ]
     },
     "execution_count": 97,
     "metadata": {},
     "output_type": "execute_result"
    }
   ],
   "source": [
    "numbers.index(3)"
   ]
  },
  {
   "cell_type": "code",
   "execution_count": null,
   "metadata": {},
   "outputs": [],
   "source": [
    "# index는 없을 시 오류가 발생합니다. 확인해봅시다. \n",
    "# 앞서 remove 역시도 같은 에러가 발생하였습니다. (ValueError)"
   ]
  },
  {
   "cell_type": "code",
   "execution_count": 98,
   "metadata": {},
   "outputs": [
    {
     "ename": "ValueError",
     "evalue": "100 is not in list",
     "output_type": "error",
     "traceback": [
      "\u001b[1;31m---------------------------------------------------------------------------\u001b[0m",
      "\u001b[1;31mValueError\u001b[0m                                Traceback (most recent call last)",
      "\u001b[1;32m<ipython-input-98-db6e752de09a>\u001b[0m in \u001b[0;36m<module>\u001b[1;34m\u001b[0m\n\u001b[1;32m----> 1\u001b[1;33m \u001b[0mnumbers\u001b[0m\u001b[1;33m.\u001b[0m\u001b[0mindex\u001b[0m\u001b[1;33m(\u001b[0m\u001b[1;36m100\u001b[0m\u001b[1;33m)\u001b[0m\u001b[1;33m\u001b[0m\u001b[1;33m\u001b[0m\u001b[0m\n\u001b[0m",
      "\u001b[1;31mValueError\u001b[0m: 100 is not in list"
     ]
    }
   ],
   "source": [
    "numbers.index(100)"
   ]
  },
  {
   "cell_type": "markdown",
   "metadata": {},
   "source": [
    "### `.count(x)`\n",
    "\n",
    "원하는 값의 개수를 확인할 수 있습니다."
   ]
  },
  {
   "cell_type": "code",
   "execution_count": 99,
   "metadata": {},
   "outputs": [],
   "source": [
    "# count를 사용해봅시다.\n",
    "numbers = [1, 2, 5, 1, 5, 1]"
   ]
  },
  {
   "cell_type": "code",
   "execution_count": 100,
   "metadata": {},
   "outputs": [
    {
     "data": {
      "text/plain": [
       "3"
      ]
     },
     "execution_count": 100,
     "metadata": {},
     "output_type": "execute_result"
    }
   ],
   "source": [
    "numbers.count(1)"
   ]
  },
  {
   "cell_type": "code",
   "execution_count": null,
   "metadata": {},
   "outputs": [],
   "source": [
    "# 따라서 원하는 값을 모두 삭제하려면 다음과 같이 할 수 있습니다."
   ]
  },
  {
   "cell_type": "code",
   "execution_count": 101,
   "metadata": {},
   "outputs": [],
   "source": [
    "numbers = [1, 2, 1, 3, 4]\n",
    "target_number = 1\n",
    "\n",
    "for i in range(numbers.count(target_number)):\n",
    "    numbers.remove(target_number)"
   ]
  },
  {
   "cell_type": "code",
   "execution_count": null,
   "metadata": {},
   "outputs": [],
   "source": [
    "# 모두 삭제되었는지 검증해봅시다."
   ]
  },
  {
   "cell_type": "code",
   "execution_count": 104,
   "metadata": {},
   "outputs": [
    {
     "name": "stdout",
     "output_type": "stream",
     "text": [
      "False\n",
      "[2, 3, 4]\n"
     ]
    }
   ],
   "source": [
    "print(target_number in numbers)\n",
    "print(numbers)"
   ]
  },
  {
   "cell_type": "markdown",
   "metadata": {},
   "source": [
    "### `.sort()`\n",
    "\n",
    "정렬을 합니다. \n",
    "\n",
    "`sorted()`와는 다르게 원본 list를 변형시키고, None을 리턴합니다."
   ]
  },
  {
   "cell_type": "code",
   "execution_count": 105,
   "metadata": {},
   "outputs": [
    {
     "name": "stdout",
     "output_type": "stream",
     "text": [
      "[37, 36, 35, 22, 15, 27]\n"
     ]
    }
   ],
   "source": [
    "import random\n",
    "lotto = random.sample(range(1, 46), 6)\n",
    "print(lotto)"
   ]
  },
  {
   "cell_type": "code",
   "execution_count": null,
   "metadata": {},
   "outputs": [],
   "source": [
    "# sort를 사용해봅시다."
   ]
  },
  {
   "cell_type": "code",
   "execution_count": 109,
   "metadata": {},
   "outputs": [
    {
     "name": "stdout",
     "output_type": "stream",
     "text": [
      "None\n",
      "[15, 22, 27, 35, 36, 37]\n",
      "[37, 36, 35, 27, 22, 15]\n"
     ]
    }
   ],
   "source": [
    "lotto_result = lotto.sort()   # 원본을 바꾸기때문에 None이 출력됨\n",
    "print(lotto_result)   # return 값\n",
    "print(lotto)   # 원본\n",
    "\n",
    "\n",
    "lotto.sort(reverse=True)\n",
    "print(lotto)"
   ]
  },
  {
   "cell_type": "code",
   "execution_count": null,
   "metadata": {},
   "outputs": [],
   "source": [
    "# sorted를 사용해봅시다."
   ]
  },
  {
   "cell_type": "code",
   "execution_count": 108,
   "metadata": {},
   "outputs": [
    {
     "name": "stdout",
     "output_type": "stream",
     "text": [
      "[1, 2, 4, 5, 5, 7]\n",
      "[2, 5, 4, 1, 7, 5]\n"
     ]
    }
   ],
   "source": [
    "numbers = [2, 5, 4, 1, 7, 5]\n",
    "\n",
    "result = sorted(numbers)  # sorted는 원본을 바꾸지 X\n",
    "print(result)\n",
    "print(numbers)"
   ]
  },
  {
   "cell_type": "markdown",
   "metadata": {},
   "source": [
    "### `.reverse()`\n",
    "\n",
    "반대로 뒤집습니다. (정렬 아님)"
   ]
  },
  {
   "cell_type": "code",
   "execution_count": 110,
   "metadata": {},
   "outputs": [
    {
     "name": "stdout",
     "output_type": "stream",
     "text": [
      "['Tom', 'David', 'Justin']\n"
     ]
    }
   ],
   "source": [
    "classroom = ['Tom', 'David', 'Justin']\n",
    "print(classroom)"
   ]
  },
  {
   "cell_type": "code",
   "execution_count": 111,
   "metadata": {},
   "outputs": [
    {
     "name": "stdout",
     "output_type": "stream",
     "text": [
      "['Justin', 'David', 'Tom']\n"
     ]
    }
   ],
   "source": [
    "classroom.reverse()\n",
    "print(classroom)"
   ]
  },
  {
   "cell_type": "code",
   "execution_count": 131,
   "metadata": {
    "scrolled": true
   },
   "outputs": [
    {
     "name": "stdout",
     "output_type": "stream",
     "text": [
      "[3, 2, 1]\n",
      "None\n",
      "[3, 2, 1]\n",
      "[1, 2, 3]\n"
     ]
    }
   ],
   "source": [
    "# .reverse() -> 원본을 바꾼다!!! >> None 출력 (sort와 동일)\n",
    "numbers = [1, 2, 3]\n",
    "result = numbers.reverse()\n",
    "print(numbers)\n",
    "print(result)\n",
    "\n",
    "# .reversed()\n",
    "numbers = [1, 2, 3]\n",
    "result = reversed(numbers)\n",
    "print(list(result))\n",
    "print(numbers)\n"
   ]
  },
  {
   "cell_type": "code",
   "execution_count": 132,
   "metadata": {},
   "outputs": [
    {
     "data": {
      "text/plain": [
       "['T', 'h']"
      ]
     },
     "execution_count": 132,
     "metadata": {},
     "output_type": "execute_result"
    }
   ],
   "source": [
    "# slicing 실습\n",
    "\n",
    "words = ['T', 'h', 'e', '', 'A', 'v', 'e', 'n', 'g', 'e', 'r', 's']\n",
    "words[0:2]"
   ]
  },
  {
   "cell_type": "code",
   "execution_count": 133,
   "metadata": {},
   "outputs": [
    {
     "data": {
      "text/plain": [
       "['T', 'h', 'e', '']"
      ]
     },
     "execution_count": 133,
     "metadata": {},
     "output_type": "execute_result"
    }
   ],
   "source": [
    "words[0:4]"
   ]
  },
  {
   "cell_type": "code",
   "execution_count": 134,
   "metadata": {},
   "outputs": [
    {
     "data": {
      "text/plain": [
       "['T', 'h', 'e', '', 'A', 'v', 'e', 'n', 'g', 'e', 'r']"
      ]
     },
     "execution_count": 134,
     "metadata": {},
     "output_type": "execute_result"
    }
   ],
   "source": [
    "words[0:11]"
   ]
  },
  {
   "cell_type": "code",
   "execution_count": 135,
   "metadata": {},
   "outputs": [
    {
     "data": {
      "text/plain": [
       "['A', 'v', 'e', 'n', 'g', 'e', 'r']"
      ]
     },
     "execution_count": 135,
     "metadata": {},
     "output_type": "execute_result"
    }
   ],
   "source": [
    "words[-8:-1]"
   ]
  },
  {
   "cell_type": "code",
   "execution_count": 136,
   "metadata": {},
   "outputs": [
    {
     "data": {
      "text/plain": [
       "['T', 'h', 'e']"
      ]
     },
     "execution_count": 136,
     "metadata": {},
     "output_type": "execute_result"
    }
   ],
   "source": [
    "words[-12:-9]"
   ]
  },
  {
   "cell_type": "markdown",
   "metadata": {},
   "source": [
    "## 2.3 복사"
   ]
  },
  {
   "cell_type": "code",
   "execution_count": 138,
   "metadata": {},
   "outputs": [],
   "source": [
    "# 리스트 복사를 해봅시다.\n",
    "original_list = [1, 2, 3]"
   ]
  },
  {
   "cell_type": "code",
   "execution_count": 139,
   "metadata": {},
   "outputs": [
    {
     "name": "stdout",
     "output_type": "stream",
     "text": [
      "[1, 2, 3]\n"
     ]
    }
   ],
   "source": [
    "copied_list = original_list\n",
    "print(copied_list)"
   ]
  },
  {
   "cell_type": "code",
   "execution_count": null,
   "metadata": {},
   "outputs": [],
   "source": [
    "# b의 값을 바꾸고 a를 출력해봅시다."
   ]
  },
  {
   "cell_type": "code",
   "execution_count": 140,
   "metadata": {},
   "outputs": [
    {
     "name": "stdout",
     "output_type": "stream",
     "text": [
      "[5, 2, 3]\n",
      "[5, 2, 3]\n"
     ]
    }
   ],
   "source": [
    "copied_list[0] = 5\n",
    "print(copied_list)\n",
    "print(original_list)"
   ]
  },
  {
   "cell_type": "code",
   "execution_count": null,
   "metadata": {},
   "outputs": [],
   "source": [
    "# id 값을 확인해봅시다."
   ]
  },
  {
   "cell_type": "code",
   "execution_count": 141,
   "metadata": {},
   "outputs": [
    {
     "name": "stdout",
     "output_type": "stream",
     "text": [
      "True\n",
      "True\n"
     ]
    }
   ],
   "source": [
    "print(id(copied_list) == id(original_list))\n",
    "print(copied_list is original_list)"
   ]
  },
  {
   "cell_type": "code",
   "execution_count": null,
   "metadata": {},
   "outputs": [],
   "source": [
    "# 숫자를 확인해봅시다."
   ]
  },
  {
   "cell_type": "code",
   "execution_count": 142,
   "metadata": {},
   "outputs": [
    {
     "name": "stdout",
     "output_type": "stream",
     "text": [
      "20005\n",
      "30005\n"
     ]
    }
   ],
   "source": [
    "a = 20005\n",
    "b = a\n",
    "b = 30005\n",
    "\n",
    "print(a)\n",
    "print(b)"
   ]
  },
  {
   "cell_type": "code",
   "execution_count": null,
   "metadata": {},
   "outputs": [],
   "source": [
    "# 문자를 확인해봅시다."
   ]
  },
  {
   "cell_type": "code",
   "execution_count": 143,
   "metadata": {},
   "outputs": [
    {
     "name": "stdout",
     "output_type": "stream",
     "text": [
      "hihi\n",
      "byebye\n"
     ]
    }
   ],
   "source": [
    "word_a = 'hihi'\n",
    "word_b = word_a\n",
    "word_b = 'byebye'\n",
    "\n",
    "print(word_a)\n",
    "print(word_b)"
   ]
  },
  {
   "cell_type": "code",
   "execution_count": null,
   "metadata": {},
   "outputs": [],
   "source": [
    "# 딕셔너리도 확인해봅시다."
   ]
  },
  {
   "cell_type": "code",
   "execution_count": 144,
   "metadata": {},
   "outputs": [
    {
     "name": "stdout",
     "output_type": "stream",
     "text": [
      "{'김밥천국': '치즈라면', '김가네': '제육볶음'}\n",
      "{'김밥천국': '참치김밥', '김가네': '제육볶음'}\n",
      "{'김밥천국': '참치김밥', '김가네': '제육볶음'}\n"
     ]
    }
   ],
   "source": [
    "lunch = {'김밥천국': '치즈라면', '김가네': '제육볶음'}\n",
    "print(lunch)\n",
    "dinner = lunch\n",
    "dinner['김밥천국'] = '참치김밥'\n",
    "\n",
    "print(lunch)\n",
    "print(dinner)"
   ]
  },
  {
   "cell_type": "markdown",
   "metadata": {},
   "source": [
    "### copy\n",
    "> [pythontutor](http://pythontutor.com/visualize.html#code=lunch%20%3D%20%7B'%EA%B9%80%EB%B0%A5%EC%B2%9C%EA%B5%AD'%3A%20'%EC%B9%98%EC%A6%88%EB%9D%BC%EB%A9%B4',%20'%EA%B9%80%EA%B0%80%EB%84%A4'%3A%20'%EC%A0%9C%EC%9C%A1%EB%B3%B6%EC%9D%8C'%7D%0Aprint%28lunch%29%0Adinner%20%3D%20lunch%0Adinner%5B'%EA%B9%80%EB%B0%A5%EC%B2%9C%EA%B5%AD'%5D%20%3D%20'%EC%B0%B8%EC%B9%98%EA%B9%80%EB%B0%A5'%0Aprint%28lunch%29&cumulative=false&curInstr=0&heapPrimitives=nevernest&mode=display&origin=opt-frontend.js&py=3&rawInputLstJSON=%5B%5D&textReferences=false)를 활용하여 자세하게 알아봅시다.\n",
    "\n",
    "* 파이썬에서 모든 변수는 객체의 주소를 가지고 있을 뿐입니다. \n",
    "\n",
    "```\n",
    "num = [1, 2, 3]\n",
    "```\n",
    "\n",
    "* 위와 같이 변수를 생성하면 num이라는 객체를 생성하고, 변수에는 객체의 주소가 저장됩니다.\n",
    "\n",
    "* 변경가능한(mutable) 자료형과 변경불가능한(immutable) 자료형은 서로 다르게 동작합니다.\n",
    "\n",
    "(변경가능한 경우는 같은 곳을 바라보고 있음 >> 수정하면 같이 바뀜)\n",
    "\n",
    "따라서, 복사를 하고 싶을 때에는 다음과 같이 해야한다."
   ]
  },
  {
   "cell_type": "code",
   "execution_count": null,
   "metadata": {},
   "outputs": [],
   "source": [
    "# 아래에 작성하세요."
   ]
  },
  {
   "cell_type": "code",
   "execution_count": null,
   "metadata": {},
   "outputs": [],
   "source": [
    "# 리스트를 복사해봅시다."
   ]
  },
  {
   "cell_type": "code",
   "execution_count": 145,
   "metadata": {},
   "outputs": [
    {
     "name": "stdout",
     "output_type": "stream",
     "text": [
      "[5, 2, 3]\n",
      "[5, 2, 3]\n"
     ]
    }
   ],
   "source": [
    "a = [1, 2, 3]\n",
    "\n",
    "b = a\n",
    "b[0] = 5\n",
    "print(a)\n",
    "print(b)"
   ]
  },
  {
   "cell_type": "code",
   "execution_count": 146,
   "metadata": {},
   "outputs": [
    {
     "name": "stdout",
     "output_type": "stream",
     "text": [
      "[1, 2, 3]\n",
      "[5, 2, 3]\n"
     ]
    }
   ],
   "source": [
    "a = [1, 2, 3]\n",
    "\n",
    "b = a[:] # 슬라이싱은 잘라서 새로운 리스트를 만들어줌 >> 서로 상관없는 보기에만 같은, But 다른 리스트\n",
    "b[0] = 5\n",
    "\n",
    "print(a)\n",
    "print(b)"
   ]
  },
  {
   "cell_type": "code",
   "execution_count": null,
   "metadata": {},
   "outputs": [],
   "source": [
    "# 다른 방법으로 복사해봅시다."
   ]
  },
  {
   "cell_type": "code",
   "execution_count": 147,
   "metadata": {},
   "outputs": [
    {
     "name": "stdout",
     "output_type": "stream",
     "text": [
      "[1, 2, 3]\n",
      "[5, 2, 3]\n"
     ]
    }
   ],
   "source": [
    "a = [1, 2, 3]\n",
    "b = list(a)  # list() 함수를 통해 새로운 값들을 return 한 것.\n",
    "b[0] = 5\n",
    "\n",
    "print(a)\n",
    "print(b)"
   ]
  },
  {
   "cell_type": "code",
   "execution_count": null,
   "metadata": {},
   "outputs": [],
   "source": [
    "# 이런 방법도 있어요"
   ]
  },
  {
   "cell_type": "code",
   "execution_count": 148,
   "metadata": {},
   "outputs": [
    {
     "name": "stdout",
     "output_type": "stream",
     "text": [
      "[1, 2, 3]\n",
      "[5, 2, 3]\n"
     ]
    }
   ],
   "source": [
    "a = [1, 2, 3]\n",
    "b = a.copy()\n",
    "b[0] = 5\n",
    "\n",
    "print(a)\n",
    "print(b)"
   ]
  },
  {
   "cell_type": "markdown",
   "metadata": {},
   "source": [
    "* 하지만, 이렇게 하는 것도 일부 상황에만 서로 다른 얕은 복사(shallow copy)입니다."
   ]
  },
  {
   "cell_type": "code",
   "execution_count": null,
   "metadata": {},
   "outputs": [],
   "source": [
    "# 2차원 배열을 복사해봅시다."
   ]
  },
  {
   "cell_type": "code",
   "execution_count": 149,
   "metadata": {},
   "outputs": [
    {
     "name": "stdout",
     "output_type": "stream",
     "text": [
      "[1, 2, [3, 2]]\n",
      "[1, 2, [3, 2]]\n"
     ]
    }
   ],
   "source": [
    "a = [1, 2, [1, 2]]\n",
    "b = a[:]  # 얕은 카피라는게 이렇게 한 층 더 들어갈 때는 X\n",
    "b[2][0] = 3\n",
    "\n",
    "print(a)\n",
    "print(b)"
   ]
  },
  {
   "cell_type": "markdown",
   "metadata": {},
   "source": [
    "* 만일 중첩된 상황에서 복사를 하고 싶다면, 깊은 복사(deep copy)를 해야합니다. \n",
    "\n",
    "* 즉, 내부에 있는 모든 객체까지 새롭게 값이 변경됩니다."
   ]
  },
  {
   "cell_type": "code",
   "execution_count": null,
   "metadata": {},
   "outputs": [],
   "source": [
    "# 깊은 복사를 사용해봅시다."
   ]
  },
  {
   "cell_type": "code",
   "execution_count": 151,
   "metadata": {},
   "outputs": [
    {
     "name": "stdout",
     "output_type": "stream",
     "text": [
      "[1, 2, [1, 2]]\n",
      "[1, 2, [3, 2]]\n"
     ]
    }
   ],
   "source": [
    "import copy\n",
    "\n",
    "a = [1, 2, [1, 2]]\n",
    "b = copy.deepcopy(a) # 이제 깊은 복사를 했기 때문에 저 깊은 곳까지 다 제대로 복사한 것.\n",
    "\n",
    "b[2][0] = 3\n",
    "\n",
    "print(a)\n",
    "print(b)"
   ]
  },
  {
   "cell_type": "markdown",
   "metadata": {},
   "source": [
    "## `.clear()`\n",
    "\n",
    "리스트의 모든 항목을 삭제합니다."
   ]
  },
  {
   "cell_type": "code",
   "execution_count": null,
   "metadata": {},
   "outputs": [],
   "source": [
    "# clear를 사용해봅시다."
   ]
  },
  {
   "cell_type": "markdown",
   "metadata": {},
   "source": [
    "# 3. List Comprehension\n",
    "\n",
    "- List를 만들 수 있는 간단한 방법이 있습니다.\n",
    "\n",
    "- `[표현식 for 요소 in sequence if 조건식 ]`"
   ]
  },
  {
   "cell_type": "markdown",
   "metadata": {},
   "source": [
    "### 세제곱리스트\n",
    "\n",
    "> 다음의 리스트를 만들어보세요. \n",
    "\n",
    "- 1~10까지의 숫자로 만든 세제곱 담긴 리스트 `cubic_list`"
   ]
  },
  {
   "cell_type": "code",
   "execution_count": null,
   "metadata": {},
   "outputs": [],
   "source": [
    "numbers = range(1, 11)"
   ]
  },
  {
   "cell_type": "code",
   "execution_count": null,
   "metadata": {},
   "outputs": [],
   "source": [
    "# 기존의방법"
   ]
  },
  {
   "cell_type": "code",
   "execution_count": 153,
   "metadata": {},
   "outputs": [
    {
     "name": "stdout",
     "output_type": "stream",
     "text": [
      "[1, 8, 27, 64, 125, 216, 343, 512, 729, 1000]\n"
     ]
    }
   ],
   "source": [
    "cubic_list = []\n",
    "for i in range(1, 11):\n",
    "    cubic_list.append(i ** 3)\n",
    "    \n",
    "print(cubic_list)"
   ]
  },
  {
   "cell_type": "code",
   "execution_count": null,
   "metadata": {},
   "outputs": [],
   "source": [
    "# List Comprehension"
   ]
  },
  {
   "cell_type": "code",
   "execution_count": 155,
   "metadata": {
    "scrolled": true
   },
   "outputs": [
    {
     "name": "stdout",
     "output_type": "stream",
     "text": [
      "[1, 8, 27, 64, 125, 216, 343, 512, 729, 1000]\n"
     ]
    }
   ],
   "source": [
    "numbers = range(1, 11)\n",
    "\n",
    "cubic_list = [number**3 for number in numbers]\n",
    "print(cubic_list)"
   ]
  },
  {
   "cell_type": "markdown",
   "metadata": {},
   "source": [
    "### 짝수리스트\n",
    "> 다음의 리스트를 만들어보세요. \n",
    "\n",
    "- 1~10까지의 숫자중 짝수만 담긴 리스트 `even_list`\n",
    "- 여러개의 `for` 혹은 `if`문을 중첩적으로 사용 가능합니다."
   ]
  },
  {
   "cell_type": "code",
   "execution_count": 156,
   "metadata": {},
   "outputs": [],
   "source": [
    "numbers = range(1, 11)"
   ]
  },
  {
   "cell_type": "code",
   "execution_count": 158,
   "metadata": {},
   "outputs": [
    {
     "name": "stdout",
     "output_type": "stream",
     "text": [
      "[2, 4, 6, 8, 10]\n"
     ]
    }
   ],
   "source": [
    "# 기존의방법\n",
    "even_list = []\n",
    "for i in numbers:\n",
    "    if i % 2 == 0:\n",
    "        even_list.append(i)\n",
    "        \n",
    "print(even_list)\n",
    "    "
   ]
  },
  {
   "cell_type": "code",
   "execution_count": 160,
   "metadata": {},
   "outputs": [
    {
     "name": "stdout",
     "output_type": "stream",
     "text": [
      "[2, 4, 6, 8, 10]\n"
     ]
    }
   ],
   "source": [
    "# List Comprehension\n",
    "even_list = [number for number in numbers if number % 2 == 0]\n",
    "print(even_list)"
   ]
  },
  {
   "cell_type": "markdown",
   "metadata": {},
   "source": [
    "### 곱집합\n",
    "\n",
    "> 주어진 두 list의 가능한 모든 조합을 담은 `pair` 리스트를 만들어주세요.\n",
    "\n",
    "1. 반복문 활용\n",
    "2. list comprehension 활용\n",
    "\n",
    "---\n",
    "\n",
    "```\n",
    "girls = ['jane', 'iu', 'mary']\n",
    "boys = ['justin', 'david', 'kim']\n",
    "\n",
    "예시 출력)\n",
    "    \n",
    "[('justin', 'jane'), ('justin', 'iu'), ('justin', 'mary'), ('david', 'jane'), ('david', 'iu'), ('david', 'mary'), ('kim', 'jane'), ('kim', 'iu'), ('kim', 'mary')]\n",
    "```\n",
    "\n"
   ]
  },
  {
   "cell_type": "code",
   "execution_count": 161,
   "metadata": {},
   "outputs": [],
   "source": [
    "girls = ['jane', 'iu', 'mary']\n",
    "boys = ['justin', 'david', 'kim']"
   ]
  },
  {
   "cell_type": "code",
   "execution_count": 170,
   "metadata": {},
   "outputs": [
    {
     "name": "stdout",
     "output_type": "stream",
     "text": [
      "[('justin', 'jane'), ('justin', 'iu'), ('justin', 'mary'), ('david', 'jane'), ('david', 'iu'), ('david', 'mary'), ('kim', 'jane'), ('kim', 'iu'), ('kim', 'mary')]\n"
     ]
    }
   ],
   "source": [
    "# 반복문을 활용하여 만들어주세요.\n",
    "pair = []\n",
    "for boy in boys:\n",
    "    for girl in girls:\n",
    "        pair.append((boy, girl))\n",
    "        \n",
    "print(pair)"
   ]
  },
  {
   "cell_type": "code",
   "execution_count": 172,
   "metadata": {},
   "outputs": [
    {
     "name": "stdout",
     "output_type": "stream",
     "text": [
      "[('justin', 'jane'), ('justin', 'iu'), ('justin', 'mary'), ('david', 'jane'), ('david', 'iu'), ('david', 'mary'), ('kim', 'jane'), ('kim', 'iu'), ('kim', 'mary')]\n"
     ]
    }
   ],
   "source": [
    "# List comprehension을 활용하여 만들어주세요.\n",
    "pair = [(boy, girl) for boy in boys for girl in girls]\n",
    "print(pair)"
   ]
  },
  {
   "cell_type": "markdown",
   "metadata": {},
   "source": [
    "### 피타고라스 정리\n",
    "\n",
    "> 주어진 조건(x < y < z < 50) 내에서 피타고라스 방정식의 해를 찾아보세요.\n",
    "\n",
    "1. 반복문 활용\n",
    "\n",
    "2. list comprehension 활용\n",
    "\n",
    "```\n",
    "예시 출력)\n",
    "[(3, 4, 5), (5, 12, 13), (6, 8, 10), (7, 24, 25), (8, 15, 17), (9, 12, 15), (9, 40, 41), (10, 24, 26), (12, 16, 20), (12, 35, 37), (15, 20, 25), (15, 36, 39), (16, 30, 34), (18, 24, 30), (20, 21, 29), (21, 28, 35), (24, 32, 40), (27, 36, 45)]\n",
    "```"
   ]
  },
  {
   "cell_type": "code",
   "execution_count": null,
   "metadata": {},
   "outputs": [],
   "source": [
    "# 반복문을 활용하여 만들어주세요."
   ]
  },
  {
   "cell_type": "code",
   "execution_count": 178,
   "metadata": {},
   "outputs": [
    {
     "name": "stdout",
     "output_type": "stream",
     "text": [
      "[(3, 4, 5), (5, 12, 13), (6, 8, 10), (7, 24, 25), (8, 15, 17), (9, 12, 15), (9, 40, 41), (10, 24, 26), (12, 16, 20), (12, 35, 37), (15, 20, 25), (15, 36, 39), (16, 30, 34), (18, 24, 30), (20, 21, 29), (21, 28, 35), (24, 32, 40), (27, 36, 45)]\n"
     ]
    }
   ],
   "source": [
    "answer = []\n",
    "for x in range(1, 50):\n",
    "    for y in range(x, 50):\n",
    "        for z in range(y, 50):\n",
    "            if x ** 2 + y ** 2 == z ** 2:\n",
    "                answer.append((x, y, z))\n",
    "                \n",
    "print(answer)"
   ]
  },
  {
   "cell_type": "code",
   "execution_count": null,
   "metadata": {},
   "outputs": [],
   "source": [
    "# List comprehension을 활용하여 만들어주세요."
   ]
  },
  {
   "cell_type": "code",
   "execution_count": 179,
   "metadata": {},
   "outputs": [
    {
     "name": "stdout",
     "output_type": "stream",
     "text": [
      "[(3, 4, 5), (5, 12, 13), (6, 8, 10), (7, 24, 25), (8, 15, 17), (9, 12, 15), (9, 40, 41), (10, 24, 26), (12, 16, 20), (12, 35, 37), (15, 20, 25), (15, 36, 39), (16, 30, 34), (18, 24, 30), (20, 21, 29), (21, 28, 35), (24, 32, 40), (27, 36, 45)]\n"
     ]
    }
   ],
   "source": [
    "answer = [(x, y, z) for x in range(1, 50) for y in range(x, 50) for z in range(y, 50) if x ** 2 + y ** 2 == z ** 2]\n",
    "print(answer)"
   ]
  },
  {
   "cell_type": "markdown",
   "metadata": {},
   "source": [
    "### 모음 제거하기\n",
    "\n",
    "> 다음의 문장에서 모음(a, e, i, o, u)를 모두 제거하시오.\n",
    "\n",
    "1. list comprehension만 사용해보세요.\n",
    "\n",
    "``` \n",
    "    words = 'Life is too short, you need python!'\n",
    "\n",
    "    예시출력)\n",
    "    Lf s t shrt, y nd pythn!\n",
    "```"
   ]
  },
  {
   "cell_type": "code",
   "execution_count": 200,
   "metadata": {},
   "outputs": [
    {
     "ename": "SyntaxError",
     "evalue": "invalid syntax (<ipython-input-200-1208ab9a11e8>, line 8)",
     "output_type": "error",
     "traceback": [
      "\u001b[1;36m  File \u001b[1;32m\"<ipython-input-200-1208ab9a11e8>\"\u001b[1;36m, line \u001b[1;32m8\u001b[0m\n\u001b[1;33m    result = ['' for i in words if i in vowels else i]\u001b[0m\n\u001b[1;37m                                                  ^\u001b[0m\n\u001b[1;31mSyntaxError\u001b[0m\u001b[1;31m:\u001b[0m invalid syntax\n"
     ]
    }
   ],
   "source": [
    "# List comprehension을 활용하여 만들어주세요.\n",
    "vowels = ['a', 'e', 'i', 'o', 'u', 'A', 'E', 'I', 'O', 'U']\n",
    "words = 'Life is too short, you need python!'\n",
    "\n",
    "result = [i for i in words if i not in vowels]\n",
    "print(''.join(result))\n",
    "\n",
    "# result = ['' for i in words if i in vowels else i]"
   ]
  },
  {
   "cell_type": "markdown",
   "metadata": {},
   "source": [
    "# 4. 딕셔너리 메소드 활용"
   ]
  },
  {
   "cell_type": "markdown",
   "metadata": {},
   "source": [
    "## 4.1 추가 및 삭제\n",
    "\n",
    "### `.pop(key[, default])`\n",
    "\n",
    "key가 딕셔너리에 있으면 제거하고 그 값을 돌려줍니다. 그렇지 않으면 default를 반환합니다.\n",
    "\n",
    "default가 없는 상태에서 딕셔너리에 없으면 KeyError가 발생합니다."
   ]
  },
  {
   "cell_type": "code",
   "execution_count": 202,
   "metadata": {},
   "outputs": [],
   "source": [
    "# pop을 사용해봅시다.\n",
    "my_dict = {'apple': '사과', 'banana': '바나나'}"
   ]
  },
  {
   "cell_type": "code",
   "execution_count": 203,
   "metadata": {},
   "outputs": [
    {
     "name": "stdout",
     "output_type": "stream",
     "text": [
      "사과\n",
      "{'banana': '바나나'}\n"
     ]
    }
   ],
   "source": [
    "result = my_dict.pop('apple')\n",
    "\n",
    "print(result)\n",
    "print(my_dict)"
   ]
  },
  {
   "cell_type": "code",
   "execution_count": null,
   "metadata": {},
   "outputs": [],
   "source": [
    "# 딕셔너리에 없으면 에러가 발생합니다"
   ]
  },
  {
   "cell_type": "code",
   "execution_count": 204,
   "metadata": {},
   "outputs": [
    {
     "ename": "KeyError",
     "evalue": "'melon'",
     "output_type": "error",
     "traceback": [
      "\u001b[1;31m---------------------------------------------------------------------------\u001b[0m",
      "\u001b[1;31mKeyError\u001b[0m                                  Traceback (most recent call last)",
      "\u001b[1;32m<ipython-input-204-2a8b4f967f4a>\u001b[0m in \u001b[0;36m<module>\u001b[1;34m\u001b[0m\n\u001b[1;32m----> 1\u001b[1;33m \u001b[0mmy_dict\u001b[0m\u001b[1;33m.\u001b[0m\u001b[0mpop\u001b[0m\u001b[1;33m(\u001b[0m\u001b[1;34m'melon'\u001b[0m\u001b[1;33m)\u001b[0m\u001b[1;33m\u001b[0m\u001b[1;33m\u001b[0m\u001b[0m\n\u001b[0m",
      "\u001b[1;31mKeyError\u001b[0m: 'melon'"
     ]
    }
   ],
   "source": [
    "my_dict.pop('melon')"
   ]
  },
  {
   "cell_type": "code",
   "execution_count": null,
   "metadata": {},
   "outputs": [],
   "source": [
    "# 두번째 인자로 default를 설정할 수 있습니다"
   ]
  },
  {
   "cell_type": "code",
   "execution_count": 205,
   "metadata": {},
   "outputs": [
    {
     "data": {
      "text/plain": [
       "0"
      ]
     },
     "execution_count": 205,
     "metadata": {},
     "output_type": "execute_result"
    }
   ],
   "source": [
    "my_dict.pop('melon', 0)"
   ]
  },
  {
   "cell_type": "markdown",
   "metadata": {},
   "source": [
    "### `.update()`\n",
    "\n",
    "- 이미 존재하는 key가 있으면 값을 제공하는 key, value로 덮어씁니다. \n",
    "- 없다면 새로운 key-value pair를 추가합니다"
   ]
  },
  {
   "cell_type": "code",
   "execution_count": 206,
   "metadata": {},
   "outputs": [],
   "source": [
    "# update를 사용해봅시다.\n",
    "my_dict = {'apple': '사과', 'banana': '바나나', 'melon': '멜론'}"
   ]
  },
  {
   "cell_type": "code",
   "execution_count": 207,
   "metadata": {},
   "outputs": [
    {
     "name": "stdout",
     "output_type": "stream",
     "text": [
      "{'apple': '사과아', 'banana': '바나나', 'melon': '멜론'}\n"
     ]
    }
   ],
   "source": [
    "my_dict.update(apple='사과아')\n",
    "print(my_dict)"
   ]
  },
  {
   "cell_type": "code",
   "execution_count": 208,
   "metadata": {},
   "outputs": [
    {
     "name": "stdout",
     "output_type": "stream",
     "text": [
      "{'apple': '사과아', 'banana': '바나나', 'melon': '멜론', 'peach': '복숭아'}\n"
     ]
    }
   ],
   "source": [
    "my_dict.update(peach='복숭아')\n",
    "print(my_dict)"
   ]
  },
  {
   "cell_type": "markdown",
   "metadata": {},
   "source": [
    "### `.get(key[, default])`\n",
    "\n",
    "key를 통해 value를 가져옵니다. \n",
    "\n",
    "절대로 KeyError가 발생하지 않습니다. default는 기본적으로 None입니다."
   ]
  },
  {
   "cell_type": "code",
   "execution_count": null,
   "metadata": {},
   "outputs": [],
   "source": [
    "# []를 사용해봅시다.\n",
    "my_dict = {'apple': '사과', 'banana': '바나나', 'melon': '멜론'}"
   ]
  },
  {
   "cell_type": "code",
   "execution_count": 210,
   "metadata": {},
   "outputs": [
    {
     "ename": "KeyError",
     "evalue": "'pineapple'",
     "output_type": "error",
     "traceback": [
      "\u001b[1;31m---------------------------------------------------------------------------\u001b[0m",
      "\u001b[1;31mKeyError\u001b[0m                                  Traceback (most recent call last)",
      "\u001b[1;32m<ipython-input-210-2fb3cb7c9b67>\u001b[0m in \u001b[0;36m<module>\u001b[1;34m\u001b[0m\n\u001b[1;32m----> 1\u001b[1;33m \u001b[0mmy_dict\u001b[0m\u001b[1;33m[\u001b[0m\u001b[1;34m'pineapple'\u001b[0m\u001b[1;33m]\u001b[0m\u001b[1;33m\u001b[0m\u001b[1;33m\u001b[0m\u001b[0m\n\u001b[0m",
      "\u001b[1;31mKeyError\u001b[0m: 'pineapple'"
     ]
    }
   ],
   "source": [
    "my_dict['pineapple']"
   ]
  },
  {
   "cell_type": "code",
   "execution_count": null,
   "metadata": {},
   "outputs": [],
   "source": [
    "# get을 사용해봅시다."
   ]
  },
  {
   "cell_type": "code",
   "execution_count": 215,
   "metadata": {},
   "outputs": [
    {
     "name": "stdout",
     "output_type": "stream",
     "text": [
      "None\n",
      "사과아\n",
      "파인애플은 없어 이 멍청아\n"
     ]
    }
   ],
   "source": [
    "print(my_dict.get('pineapple'))\n",
    "print(my_dict.get('apple'))\n",
    "print(my_dict.get('pineapple', '파인애플은 없어 이 멍청아'))\n"
   ]
  },
  {
   "cell_type": "markdown",
   "metadata": {},
   "source": [
    "## 4.2 dictionary comprehension\n",
    "\n",
    "- dictionary도 comprehension을 활용하여 만들 수 있습니다. \n",
    "\n",
    "- `{key:value for 요소 in sequnce if 조건식}`"
   ]
  },
  {
   "cell_type": "code",
   "execution_count": 217,
   "metadata": {},
   "outputs": [
    {
     "ename": "TypeError",
     "evalue": "unsupported operand type(s) for -: 'list' and 'list'",
     "output_type": "error",
     "traceback": [
      "\u001b[1;31m---------------------------------------------------------------------------\u001b[0m",
      "\u001b[1;31mTypeError\u001b[0m                                 Traceback (most recent call last)",
      "\u001b[1;32m<ipython-input-217-799d141c56a2>\u001b[0m in \u001b[0;36m<module>\u001b[1;34m\u001b[0m\n\u001b[0;32m      1\u001b[0m \u001b[0mx\u001b[0m \u001b[1;33m=\u001b[0m \u001b[0mx\u001b[0m\u001b[1;33m*\u001b[0m\u001b[1;36m2\u001b[0m \u001b[1;33m-\u001b[0m \u001b[1;36m1\u001b[0m\u001b[1;33m\u001b[0m\u001b[1;33m\u001b[0m\u001b[0m\n\u001b[1;32m----> 2\u001b[1;33m \u001b[0mc\u001b[0m \u001b[1;33m=\u001b[0m \u001b[1;33m(\u001b[0m\u001b[0ma\u001b[0m\u001b[1;33m+\u001b[0m\u001b[0mb\u001b[0m\u001b[1;33m)\u001b[0m \u001b[1;33m*\u001b[0m \u001b[1;33m(\u001b[0m\u001b[0ma\u001b[0m\u001b[1;33m-\u001b[0m\u001b[0mb\u001b[0m\u001b[1;33m)\u001b[0m\u001b[1;33m\u001b[0m\u001b[1;33m\u001b[0m\u001b[0m\n\u001b[0m",
      "\u001b[1;31mTypeError\u001b[0m: unsupported operand type(s) for -: 'list' and 'list'"
     ]
    }
   ],
   "source": [
    "x = x*2 - 1\n",
    "c = (a+b) * (a-b)"
   ]
  },
  {
   "cell_type": "code",
   "execution_count": null,
   "metadata": {},
   "outputs": [],
   "source": [
    "# dictionary comprehension"
   ]
  },
  {
   "cell_type": "code",
   "execution_count": 216,
   "metadata": {},
   "outputs": [
    {
     "name": "stdout",
     "output_type": "stream",
     "text": [
      "{1: 1, 2: 8, 3: 27, 4: 64, 5: 125, 6: 216, 7: 343}\n"
     ]
    }
   ],
   "source": [
    "cubic = {x: x**3 for x in range(1, 8)}\n",
    "print(cubic)"
   ]
  },
  {
   "cell_type": "markdown",
   "metadata": {},
   "source": [
    "### dictionary comprehension 사용해보기"
   ]
  },
  {
   "cell_type": "code",
   "execution_count": 1,
   "metadata": {},
   "outputs": [],
   "source": [
    "dusts = {'서울': 72, '대전': 82, '구미': 29, '광주': 45, '중국': 200}"
   ]
  },
  {
   "cell_type": "code",
   "execution_count": 226,
   "metadata": {},
   "outputs": [
    {
     "name": "stdout",
     "output_type": "stream",
     "text": [
      "{'대전': 82, '중국': 200}\n"
     ]
    }
   ],
   "source": [
    "# 미세먼지 농도가 80 초과 지역만 뽑아 봅시다.\n",
    "# 예) {'대전': 82, '중국': 200}\n",
    "dirty = {x: y for x, y in dusts.items() if y > 80}\n",
    "print(dirty)"
   ]
  },
  {
   "cell_type": "code",
   "execution_count": 240,
   "metadata": {
    "scrolled": false
   },
   "outputs": [
    {
     "name": "stdout",
     "output_type": "stream",
     "text": [
      "{'서울': '보통', '대전': '나쁨', '구미': '보통', '광주': '보통', '중국': '나쁨'}\n"
     ]
    }
   ],
   "source": [
    "# 미세먼지 농도가 80초과는 나쁨 80이하는 보통으로 하는 value를 가지도록 바꿔봅시다.\n",
    "dirty = {x: '나쁨' if y > 80 else '보통' for x, y in dusts.items()}\n",
    "print(dirty)"
   ]
  },
  {
   "cell_type": "code",
   "execution_count": null,
   "metadata": {},
   "outputs": [],
   "source": [
    "# elif 도 사용할 수 있습니다."
   ]
  },
  {
   "cell_type": "code",
   "execution_count": 3,
   "metadata": {},
   "outputs": [
    {
     "name": "stdout",
     "output_type": "stream",
     "text": [
      "{'서울': '보통', '대전': '나쁨', '구미': '좋음', '광주': '보통', '중국': '매우나쁨'}\n"
     ]
    }
   ],
   "source": [
    "translate = {key: '매우나쁨' if value > 150 else '나쁨' if value > 80 else '보통' if value > 30 else '좋음' for key, value in dusts.items() }\n",
    "print(translate)"
   ]
  },
  {
   "cell_type": "markdown",
   "metadata": {},
   "source": [
    "# 5. 세트 메소드 활용"
   ]
  },
  {
   "cell_type": "markdown",
   "metadata": {},
   "source": [
    "## 5.1 추가 및 삭제\n",
    "\n",
    "### `.add(elem)`\n",
    "elem을 세트에 추가합니다. "
   ]
  },
  {
   "cell_type": "code",
   "execution_count": 4,
   "metadata": {},
   "outputs": [],
   "source": [
    "# add를 사용해봅시다.\n",
    "fruits = {\"사과\", \"바나나\", \"수박\"}"
   ]
  },
  {
   "cell_type": "code",
   "execution_count": 5,
   "metadata": {},
   "outputs": [
    {
     "name": "stdout",
     "output_type": "stream",
     "text": [
      "{'수박', '바나나', '사과', '포도'}\n"
     ]
    }
   ],
   "source": [
    "fruits.add('포도')\n",
    "print(fruits)"
   ]
  },
  {
   "cell_type": "code",
   "execution_count": 7,
   "metadata": {},
   "outputs": [
    {
     "name": "stdout",
     "output_type": "stream",
     "text": [
      "{'수박', '바나나', '사과', '포도'}\n"
     ]
    }
   ],
   "source": [
    "fruits.add('포도')\n",
    "print(fruits)"
   ]
  },
  {
   "cell_type": "markdown",
   "metadata": {},
   "source": [
    "### `.update(*others)`\n",
    "\n",
    "여러가지의 값을 추가합니다.\n",
    "\n",
    "여기서 반드시 iterable한 값을 넣어야합니다. (문자열도 iterable. but 한 글자씩 떨어져서 들어감)"
   ]
  },
  {
   "cell_type": "code",
   "execution_count": 8,
   "metadata": {},
   "outputs": [],
   "source": [
    "# update를 사용해봅시다.\n",
    "fruits = {\"사과\", \"바나나\", \"수박\"}"
   ]
  },
  {
   "cell_type": "code",
   "execution_count": 10,
   "metadata": {},
   "outputs": [
    {
     "name": "stdout",
     "output_type": "stream",
     "text": [
      "{'포도', '바나나', '토마토', '딸기', '레몬', '수박', '사과'}\n"
     ]
    }
   ],
   "source": [
    "fruits.update({'토마토', '토마토', '딸기'}, {'포도', '레몬'})\n",
    "print(fruits)"
   ]
  },
  {
   "cell_type": "code",
   "execution_count": null,
   "metadata": {},
   "outputs": [],
   "source": [
    "# 만약에 이렇게 한다면.."
   ]
  },
  {
   "cell_type": "code",
   "execution_count": 11,
   "metadata": {},
   "outputs": [
    {
     "name": "stdout",
     "output_type": "stream",
     "text": [
      "{'포도', '바나나', '토마토', '딸기', '레몬', '안', '두', '리', '수박', '숭', '아', '사과', '복'}\n"
     ]
    }
   ],
   "source": [
    "fruits.update('복숭아', '두리안')  # 문자열도 iterable\n",
    "print(fruits)"
   ]
  },
  {
   "cell_type": "code",
   "execution_count": null,
   "metadata": {},
   "outputs": [],
   "source": [
    "# 하지만 이건 오류가 납니다!"
   ]
  },
  {
   "cell_type": "code",
   "execution_count": 12,
   "metadata": {},
   "outputs": [
    {
     "ename": "TypeError",
     "evalue": "'int' object is not iterable",
     "output_type": "error",
     "traceback": [
      "\u001b[1;31m---------------------------------------------------------------------------\u001b[0m",
      "\u001b[1;31mTypeError\u001b[0m                                 Traceback (most recent call last)",
      "\u001b[1;32m<ipython-input-12-f95c151f807e>\u001b[0m in \u001b[0;36m<module>\u001b[1;34m\u001b[0m\n\u001b[1;32m----> 1\u001b[1;33m \u001b[0mfruits\u001b[0m\u001b[1;33m.\u001b[0m\u001b[0mupdate\u001b[0m\u001b[1;33m(\u001b[0m\u001b[1;36m123\u001b[0m\u001b[1;33m)\u001b[0m\u001b[1;33m\u001b[0m\u001b[1;33m\u001b[0m\u001b[0m\n\u001b[0m\u001b[0;32m      2\u001b[0m \u001b[0mprint\u001b[0m\u001b[1;33m(\u001b[0m\u001b[0mfruits\u001b[0m\u001b[1;33m)\u001b[0m\u001b[1;33m\u001b[0m\u001b[1;33m\u001b[0m\u001b[0m\n",
      "\u001b[1;31mTypeError\u001b[0m: 'int' object is not iterable"
     ]
    }
   ],
   "source": [
    "fruits.update(123)\n",
    "print(fruits)"
   ]
  },
  {
   "cell_type": "markdown",
   "metadata": {},
   "source": [
    "### `.remove(elem)`\n",
    "\n",
    "elem을 세트에서 삭제하고, 없으면 KeyError가 발생합니다. "
   ]
  },
  {
   "cell_type": "code",
   "execution_count": 13,
   "metadata": {},
   "outputs": [],
   "source": [
    "# remove를 사용해봅시다.\n",
    "fruits = {\"사과\", \"바나나\", \"수박\"}"
   ]
  },
  {
   "cell_type": "code",
   "execution_count": 14,
   "metadata": {},
   "outputs": [
    {
     "name": "stdout",
     "output_type": "stream",
     "text": [
      "{'수박', '바나나'}\n"
     ]
    }
   ],
   "source": [
    "fruits.remove('사과')\n",
    "print(fruits)"
   ]
  },
  {
   "cell_type": "code",
   "execution_count": 15,
   "metadata": {},
   "outputs": [
    {
     "ename": "KeyError",
     "evalue": "'애플'",
     "output_type": "error",
     "traceback": [
      "\u001b[1;31m---------------------------------------------------------------------------\u001b[0m",
      "\u001b[1;31mKeyError\u001b[0m                                  Traceback (most recent call last)",
      "\u001b[1;32m<ipython-input-15-06bf04efae60>\u001b[0m in \u001b[0;36m<module>\u001b[1;34m\u001b[0m\n\u001b[1;32m----> 1\u001b[1;33m \u001b[0mfruits\u001b[0m\u001b[1;33m.\u001b[0m\u001b[0mremove\u001b[0m\u001b[1;33m(\u001b[0m\u001b[1;34m'애플'\u001b[0m\u001b[1;33m)\u001b[0m\u001b[1;33m\u001b[0m\u001b[1;33m\u001b[0m\u001b[0m\n\u001b[0m",
      "\u001b[1;31mKeyError\u001b[0m: '애플'"
     ]
    }
   ],
   "source": [
    "fruits.remove('애플')"
   ]
  },
  {
   "cell_type": "markdown",
   "metadata": {},
   "source": [
    "### `.discard(elem)`\n",
    "elem를 세트에서 삭제하고 없어도 에러가 발생하지 않습니다."
   ]
  },
  {
   "cell_type": "code",
   "execution_count": 16,
   "metadata": {},
   "outputs": [],
   "source": [
    "# discard를 사용해봅시다.\n",
    "fruits = {\"사과\", \"바나나\", \"수박\"}"
   ]
  },
  {
   "cell_type": "code",
   "execution_count": 18,
   "metadata": {},
   "outputs": [
    {
     "name": "stdout",
     "output_type": "stream",
     "text": [
      "{'수박', '바나나', '사과'}\n"
     ]
    }
   ],
   "source": [
    "fruits.discard('포도')\n",
    "print(fruits)"
   ]
  },
  {
   "cell_type": "code",
   "execution_count": 19,
   "metadata": {},
   "outputs": [
    {
     "name": "stdout",
     "output_type": "stream",
     "text": [
      "{'바나나', '사과'}\n"
     ]
    }
   ],
   "source": [
    "fruits.discard('수박')\n",
    "print(fruits)"
   ]
  },
  {
   "cell_type": "markdown",
   "metadata": {},
   "source": [
    "### `.pop()`\n",
    "\n",
    "임의의 원소를 제거해 반환합니다."
   ]
  },
  {
   "cell_type": "code",
   "execution_count": 20,
   "metadata": {},
   "outputs": [],
   "source": [
    "# pop을 사용해봅시다.\n",
    "fruits = {\"사과\", \"바나나\", \"수박\", \"아보카도\"}"
   ]
  },
  {
   "cell_type": "code",
   "execution_count": 21,
   "metadata": {},
   "outputs": [
    {
     "name": "stdout",
     "output_type": "stream",
     "text": [
      "수박\n",
      "{'바나나', '사과', '아보카도'}\n"
     ]
    }
   ],
   "source": [
    "result = fruits.pop()\n",
    "print(result)\n",
    "print(fruits)"
   ]
  },
  {
   "cell_type": "markdown",
   "metadata": {},
   "source": [
    "##  `.map()`, `.zip()`, `.filter()`"
   ]
  },
  {
   "cell_type": "markdown",
   "metadata": {},
   "source": [
    "### `.map(function, iterable)`\n",
    "\n",
    "* Iterable의 모든 원소에 function을 적용한 후 그 결과를 돌려줍니다. \n",
    "\n",
    "* 대표적으로 iterable한 타입 - list, dict, set, str, bytes, tuple, range\n",
    "\n",
    "* return은 map_object 형태로 됩니다."
   ]
  },
  {
   "cell_type": "code",
   "execution_count": 22,
   "metadata": {},
   "outputs": [],
   "source": [
    "numbers = [1, 2, 3]\n",
    "# 위의 코드를 문자열 '123'으로 만들어봅시다."
   ]
  },
  {
   "cell_type": "code",
   "execution_count": 24,
   "metadata": {},
   "outputs": [
    {
     "name": "stdout",
     "output_type": "stream",
     "text": [
      "<map object at 0x000002022FB32548>\n"
     ]
    }
   ],
   "source": [
    "chars = map(str, numbers)\n",
    "print(chars)"
   ]
  },
  {
   "cell_type": "code",
   "execution_count": 25,
   "metadata": {},
   "outputs": [
    {
     "name": "stdout",
     "output_type": "stream",
     "text": [
      "123\n",
      "<class 'str'>\n"
     ]
    }
   ],
   "source": [
    "word = ''.join(chars)\n",
    "print(word)\n",
    "print(type(word))"
   ]
  },
  {
   "cell_type": "code",
   "execution_count": null,
   "metadata": {},
   "outputs": [],
   "source": [
    "# list comprehension"
   ]
  },
  {
   "cell_type": "code",
   "execution_count": 26,
   "metadata": {},
   "outputs": [
    {
     "name": "stdout",
     "output_type": "stream",
     "text": [
      "123\n",
      "<class 'str'>\n"
     ]
    }
   ],
   "source": [
    "word = ''.join([str(number) for number in numbers])\n",
    "print(word)\n",
    "print(type(word))"
   ]
  },
  {
   "cell_type": "code",
   "execution_count": 27,
   "metadata": {},
   "outputs": [],
   "source": [
    "chars = ['1', '2', '3']\n",
    "# 위의 코드를 [1, 2, 3]으로 만들어봅시다."
   ]
  },
  {
   "cell_type": "code",
   "execution_count": 30,
   "metadata": {},
   "outputs": [
    {
     "name": "stdout",
     "output_type": "stream",
     "text": [
      "[1, 2, 3]\n"
     ]
    }
   ],
   "source": [
    "num = list(map(int, chars))\n",
    "# int('1'), int('2'), int('3')\n",
    "print(num)"
   ]
  },
  {
   "cell_type": "code",
   "execution_count": null,
   "metadata": {},
   "outputs": [],
   "source": [
    "# list comprehension"
   ]
  },
  {
   "cell_type": "code",
   "execution_count": 32,
   "metadata": {},
   "outputs": [
    {
     "name": "stdout",
     "output_type": "stream",
     "text": [
      "[1, 2, 3]\n"
     ]
    }
   ],
   "source": [
    "nums = [int(char) for char in chars]\n",
    "print(nums)"
   ]
  },
  {
   "cell_type": "markdown",
   "metadata": {},
   "source": [
    "* map의 첫번째 인자로 들어가는 function은 사용자 정의 함수도 가능합니다."
   ]
  },
  {
   "cell_type": "code",
   "execution_count": 33,
   "metadata": {},
   "outputs": [],
   "source": [
    "# 세제곱의 결과를 나타내는 함수\n",
    "def cube(n):\n",
    "    return n**3"
   ]
  },
  {
   "cell_type": "code",
   "execution_count": 34,
   "metadata": {},
   "outputs": [
    {
     "data": {
      "text/plain": [
       "[1, 8, 27]"
      ]
     },
     "execution_count": 34,
     "metadata": {},
     "output_type": "execute_result"
    }
   ],
   "source": [
    "numbers = [1, 2, 3]\n",
    "list(map(cube, numbers))"
   ]
  },
  {
   "cell_type": "markdown",
   "metadata": {},
   "source": [
    "### `.zip(*iterables)` \n",
    "\n",
    "* 복수 iterable한 것들을 모아준다.\n",
    "\n",
    "* 결과는 튜플의 모음으로 구성된 zip object를 반환한다."
   ]
  },
  {
   "cell_type": "code",
   "execution_count": 35,
   "metadata": {},
   "outputs": [],
   "source": [
    "# 예시를 봅시다.\n",
    "girls = ['jane', 'iu', 'mary']\n",
    "boys = ['justin', 'david', 'kim']"
   ]
  },
  {
   "cell_type": "code",
   "execution_count": 38,
   "metadata": {},
   "outputs": [
    {
     "name": "stdout",
     "output_type": "stream",
     "text": [
      "[('jane', 'justin'), ('iu', 'david'), ('mary', 'kim')]\n"
     ]
    }
   ],
   "source": [
    "print(list(zip(girls, boys)))"
   ]
  },
  {
   "cell_type": "code",
   "execution_count": null,
   "metadata": {},
   "outputs": [],
   "source": [
    "# dict comprehension + for문으로 한 명씩 순서대로 매칭시켜봅시다.\n",
    "# 예) {'jane': 'justin', 'iu': 'david', 'mary': 'kim'}"
   ]
  },
  {
   "cell_type": "code",
   "execution_count": 36,
   "metadata": {},
   "outputs": [
    {
     "name": "stdout",
     "output_type": "stream",
     "text": [
      "{'jane': 'kim', 'iu': 'kim', 'mary': 'kim'}\n"
     ]
    }
   ],
   "source": [
    "matching = {girl: boy for girl in girls for boy in boys}\n",
    "print(matching)   # key는 중복될 수 없기 때문"
   ]
  },
  {
   "cell_type": "code",
   "execution_count": null,
   "metadata": {},
   "outputs": [],
   "source": [
    "# zip을 사용하면 조금 더 편하게 조작할 수 있습니다."
   ]
  },
  {
   "cell_type": "code",
   "execution_count": 41,
   "metadata": {},
   "outputs": [
    {
     "data": {
      "text/plain": [
       "{'jane': 'justin', 'iu': 'david', 'mary': 'kim'}"
      ]
     },
     "execution_count": 41,
     "metadata": {},
     "output_type": "execute_result"
    }
   ],
   "source": [
    "{girl: boy for girl, boy in zip(girls, boys)}"
   ]
  },
  {
   "cell_type": "markdown",
   "metadata": {},
   "source": [
    "* 아래와 같이 사용가능하다."
   ]
  },
  {
   "cell_type": "code",
   "execution_count": 42,
   "metadata": {},
   "outputs": [
    {
     "name": "stdout",
     "output_type": "stream",
     "text": [
      "1 5\n",
      "2 6\n",
      "3 7\n"
     ]
    }
   ],
   "source": [
    "justin = '123'\n",
    "zzulu = '567'\n",
    "\n",
    "for digit_a, digit_b in zip(justin, zzulu):\n",
    "    print(digit_a, digit_b)"
   ]
  },
  {
   "cell_type": "markdown",
   "metadata": {},
   "source": [
    "* zip은 반드시 길이가 같을 때 사용해야한다. 길이가 다르면 가장 짧은 것을 기준으로 구성한다."
   ]
  },
  {
   "cell_type": "code",
   "execution_count": 43,
   "metadata": {},
   "outputs": [
    {
     "data": {
      "text/plain": [
       "[(1, '1'), (2, '2')]"
      ]
     },
     "execution_count": 43,
     "metadata": {},
     "output_type": "execute_result"
    }
   ],
   "source": [
    "num1 = [1, 2, 3]\n",
    "num2 = ['1', '2']\n",
    "\n",
    "list(zip(num1, num2))"
   ]
  },
  {
   "cell_type": "markdown",
   "metadata": {},
   "source": [
    "* 길이가 긴 것을 맞춰서 할 수도 있지만, 사용할 일이 없다."
   ]
  },
  {
   "cell_type": "code",
   "execution_count": 45,
   "metadata": {},
   "outputs": [
    {
     "data": {
      "text/plain": [
       "[(1, '1'), (2, '2'), (3, 0)]"
      ]
     },
     "execution_count": 45,
     "metadata": {},
     "output_type": "execute_result"
    }
   ],
   "source": [
    "from itertools import zip_longest\n",
    "\n",
    "list(zip_longest(num1, num2, fillvalue=0))"
   ]
  },
  {
   "cell_type": "markdown",
   "metadata": {},
   "source": [
    "### `.filter(function, iterable)`\n",
    "\n",
    "* iterable에서 function의 반환된 결과가 참인 것들만 구성하여 반환한다."
   ]
  },
  {
   "cell_type": "code",
   "execution_count": null,
   "metadata": {},
   "outputs": [],
   "source": [
    "# 짝수인지 판단하는 함수를 작성해봅시다."
   ]
  },
  {
   "cell_type": "code",
   "execution_count": 46,
   "metadata": {},
   "outputs": [],
   "source": [
    "def even(n):\n",
    "    if n%2 == 0:\n",
    "        return n\n",
    "        "
   ]
  },
  {
   "cell_type": "code",
   "execution_count": null,
   "metadata": {},
   "outputs": [],
   "source": [
    "# filter를 사용해봅시다."
   ]
  },
  {
   "cell_type": "code",
   "execution_count": 52,
   "metadata": {},
   "outputs": [
    {
     "data": {
      "text/plain": [
       "[2, 4, 2, 2]"
      ]
     },
     "execution_count": 52,
     "metadata": {},
     "output_type": "execute_result"
    }
   ],
   "source": [
    "numbers = [1, 2, 3, 4, 5, 2, 2]\n",
    "list(filter(even, numbers))"
   ]
  },
  {
   "cell_type": "code",
   "execution_count": null,
   "metadata": {},
   "outputs": [],
   "source": [
    "# 다음의 list comprehension과 동일하다."
   ]
  },
  {
   "cell_type": "code",
   "execution_count": 51,
   "metadata": {},
   "outputs": [
    {
     "name": "stdout",
     "output_type": "stream",
     "text": [
      "{2, 4}\n"
     ]
    }
   ],
   "source": [
    "result = {number for number in numbers if even(number)}\n",
    "print(result)"
   ]
  }
 ],
 "metadata": {
  "kernelspec": {
   "display_name": "Python 3",
   "language": "python",
   "name": "python3"
  },
  "language_info": {
   "codemirror_mode": {
    "name": "ipython",
    "version": 3
   },
   "file_extension": ".py",
   "mimetype": "text/x-python",
   "name": "python",
   "nbconvert_exporter": "python",
   "pygments_lexer": "ipython3",
   "version": "3.7.4"
  },
  "toc": {
   "base_numbering": 1,
   "nav_menu": {},
   "number_sections": true,
   "sideBar": true,
   "skip_h1_title": false,
   "title_cell": "Table of Contents",
   "title_sidebar": "Contents",
   "toc_cell": false,
   "toc_position": {},
   "toc_section_display": true,
   "toc_window_display": false
  }
 },
 "nbformat": 4,
 "nbformat_minor": 2
}
