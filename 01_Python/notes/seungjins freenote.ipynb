{
 "cells": [
  {
   "cell_type": "code",
   "execution_count": null,
   "metadata": {},
   "outputs": [],
   "source": [
    "def palindrome(word):\n",
    "    if word == word[::-1]:\n",
    "        return True\n",
    "    else:\n",
    "        return False\n",
    "        \n",
    "a = input('단어를 입력하세요: ')\n",
    "\n",
    "palindrome(a)"
   ]
  },
  {
   "cell_type": "code",
   "execution_count": null,
   "metadata": {},
   "outputs": [],
   "source": [
    "dir(__builtins__)"
   ]
  },
  {
   "cell_type": "code",
   "execution_count": null,
   "metadata": {},
   "outputs": [],
   "source": [
    "def my_func(a, b):\n",
    "    c = a + b\n",
    "    print(c)\n",
    "\n",
    "result = my_func(4, 7)"
   ]
  },
  {
   "cell_type": "code",
   "execution_count": null,
   "metadata": {},
   "outputs": [],
   "source": [
    "def my_sqrt(n):\n",
    "    x, y = 1, n # 양의 정수 -> 1 ~ n\n",
    "    result = 1 # 우리가 추측하는 제곱근의 근사값\n",
    "    \n",
    "    while abs(result**2 - n) > 0.0000000001:\n",
    "        #제곱근 제곱과 입력 값의 차이가 적어도 0.0000000001보다 작아지면 그 차이가 거의 없다고 봄\n",
    "        result = (x + y) / 2\n",
    "        # 양쪽 끝 값의 절반을 다시 제곱근의 근사치로 둠\n",
    "        if result ** 2 < n:\n",
    "            x = result\n",
    "        else:\n",
    "            y = result\n",
    "    return result\n",
    "\n",
    "print(my_sqrt(2))"
   ]
  },
  {
   "cell_type": "code",
   "execution_count": null,
   "metadata": {},
   "outputs": [],
   "source": [
    "import math\n",
    "\n",
    "def my_sqrt(n):\n",
    "    x, y = 1, n # 양의 정수 -> 1 ~ n\n",
    "    result = 1 # 우리가 추측하는 제곱근의 근사값\n",
    "    \n",
    "    while not math.isclose(result ** 2, n):\n",
    "        #제곱근 제곱과 입력 값의 차이가 적어도 0.0000000001보다 작아지면 그 차이가 거의 없다고 봄\n",
    "        result = (x + y) / 2\n",
    "        # 양쪽 끝 값의 절반을 다시 제곱근의 근사치로 둠\n",
    "        if result ** 2 < n:\n",
    "            x = result\n",
    "        else:\n",
    "            y = result\n",
    "    return result\n",
    "\n",
    "print(my_sqrt(8))"
   ]
  },
  {
   "cell_type": "code",
   "execution_count": null,
   "metadata": {},
   "outputs": [],
   "source": [
    "import math\n",
    "\n",
    "x = int(input(\"양의 정수 x를 입력하세요: \"))\n",
    "a = x - 1\n",
    "i = 0\n",
    "while abs(a ** 2 - x) > 0.00001:\n",
    "    a = (a + (x / a)) / 2\n",
    "    i += 1\n",
    "print(a)\n",
    "print(i)"
   ]
  },
  {
   "cell_type": "code",
   "execution_count": null,
   "metadata": {},
   "outputs": [],
   "source": []
  },
  {
   "cell_type": "code",
   "execution_count": null,
   "metadata": {},
   "outputs": [],
   "source": []
  },
  {
   "cell_type": "code",
   "execution_count": null,
   "metadata": {},
   "outputs": [],
   "source": []
  },
  {
   "cell_type": "code",
   "execution_count": null,
   "metadata": {},
   "outputs": [],
   "source": []
  },
  {
   "cell_type": "code",
   "execution_count": null,
   "metadata": {},
   "outputs": [],
   "source": []
  },
  {
   "cell_type": "code",
   "execution_count": null,
   "metadata": {},
   "outputs": [],
   "source": []
  },
  {
   "cell_type": "code",
   "execution_count": null,
   "metadata": {},
   "outputs": [],
   "source": []
  },
  {
   "cell_type": "code",
   "execution_count": null,
   "metadata": {},
   "outputs": [],
   "source": []
  },
  {
   "cell_type": "code",
   "execution_count": null,
   "metadata": {},
   "outputs": [],
   "source": []
  },
  {
   "cell_type": "code",
   "execution_count": null,
   "metadata": {},
   "outputs": [],
   "source": []
  },
  {
   "cell_type": "code",
   "execution_count": null,
   "metadata": {},
   "outputs": [],
   "source": []
  }
 ],
 "metadata": {
  "kernelspec": {
   "display_name": "Python 3",
   "language": "python",
   "name": "python3"
  },
  "language_info": {
   "codemirror_mode": {
    "name": "ipython",
    "version": 3
   },
   "file_extension": ".py",
   "mimetype": "text/x-python",
   "name": "python",
   "nbconvert_exporter": "python",
   "pygments_lexer": "ipython3",
   "version": "3.7.4"
  }
 },
 "nbformat": 4,
 "nbformat_minor": 2
}
