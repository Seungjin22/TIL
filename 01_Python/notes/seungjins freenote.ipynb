{
 "cells": [
  {
   "cell_type": "code",
   "execution_count": null,
   "metadata": {},
   "outputs": [],
   "source": [
    "def remove(a):\n",
    "\t#####\n",
    "\treturn\n",
    "\n",
    "def removed(a):\n",
    "\t#####\n",
    "\treturn a"
   ]
  },
  {
   "cell_type": "code",
   "execution_count": 13,
   "metadata": {},
   "outputs": [
    {
     "name": "stdout",
     "output_type": "stream",
     "text": [
      "안녕\n",
      "None\n"
     ]
    }
   ],
   "source": [
    "def result():\n",
    "\tprint('안녕')\n",
    "\n",
    "a = result()\n",
    "print(a)"
   ]
  },
  {
   "cell_type": "code",
   "execution_count": 14,
   "metadata": {},
   "outputs": [
    {
     "name": "stdout",
     "output_type": "stream",
     "text": [
      "answer = [85, 7]\n"
     ]
    }
   ],
   "source": [
    "#1. 190725.Thu 보충수업 \n",
    "'''\n",
    "n개의 서로 다른 자연수가 주어질 때, 이들 중 최댓값을 찾고 그 값이 몇 번째 수인지 구하세요.\n",
    "\n",
    "예를 들어, 서로 다른 n개의 자연수가 [3, 29, 38, 12, 57, 74, 40, 85, 61] 이라면\n",
    "최댓값은 85, 7번째 수\n",
    "\n",
    "answer = [85, 7]\n",
    "'''\n",
    "\n",
    "answer = []\n",
    "\n",
    "# def my_max(lists):\n",
    "#     number = []\n",
    "#     for i in lists:\n",
    "#         number.append(i)\n",
    "#     return max(number)\n",
    "\n",
    "def my_max2(lists):\n",
    "    max_num = lists[0]\n",
    "    for i in lists:\n",
    "        if max_num < i:\n",
    "            max_num = i\n",
    "    return max_num\n",
    "\n",
    "my_list = [3, 29, 38, 12, 57, 74, 40, 85, 61]\n",
    "\n",
    "for idx, value in enumerate(my_list):\n",
    "    if value == my_max2(my_list):\n",
    "        answer.append(value)\n",
    "        answer.append(idx)\n",
    "        break\n",
    "\n",
    "print(f'answer = {answer}')\n"
   ]
  },
  {
   "cell_type": "code",
   "execution_count": null,
   "metadata": {},
   "outputs": [],
   "source": []
  },
  {
   "cell_type": "code",
   "execution_count": 1,
   "metadata": {},
   "outputs": [
    {
     "name": "stdout",
     "output_type": "stream",
     "text": [
      "None\n",
      "[1, 2, 3]\n"
     ]
    }
   ],
   "source": [
    "numbers = [3, 1, 2]\n",
    "print(numbers.sort())\n",
    "print(numbers)"
   ]
  },
  {
   "cell_type": "code",
   "execution_count": 2,
   "metadata": {},
   "outputs": [
    {
     "name": "stdout",
     "output_type": "stream",
     "text": [
      "hi\n",
      "None\n"
     ]
    }
   ],
   "source": [
    "def greeting():\n",
    "    print('hi')\n",
    "    \n",
    "a = greeting()\n",
    "print(a)"
   ]
  },
  {
   "cell_type": "code",
   "execution_count": null,
   "metadata": {},
   "outputs": [],
   "source": [
    "def palindrome(word):\n",
    "    if word == word[::-1]:\n",
    "        return True\n",
    "    else:\n",
    "        return False\n",
    "        \n",
    "a = input('단어를 입력하세요: ')\n",
    "\n",
    "palindrome(a)"
   ]
  },
  {
   "cell_type": "code",
   "execution_count": null,
   "metadata": {},
   "outputs": [],
   "source": [
    "dir(__builtins__)"
   ]
  },
  {
   "cell_type": "code",
   "execution_count": null,
   "metadata": {},
   "outputs": [],
   "source": [
    "def my_func(a, b):\n",
    "    c = a + b\n",
    "    print(c)\n",
    "\n",
    "result = my_func(4, 7)"
   ]
  },
  {
   "cell_type": "code",
   "execution_count": null,
   "metadata": {},
   "outputs": [],
   "source": [
    "def my_sqrt(n):\n",
    "    x, y = 1, n # 양의 정수 -> 1 ~ n\n",
    "    result = 1 # 우리가 추측하는 제곱근의 근사값\n",
    "    \n",
    "    while abs(result**2 - n) > 0.0000000001:\n",
    "        #제곱근 제곱과 입력 값의 차이가 적어도 0.0000000001보다 작아지면 그 차이가 거의 없다고 봄\n",
    "        result = (x + y) / 2\n",
    "        # 양쪽 끝 값의 절반을 다시 제곱근의 근사치로 둠\n",
    "        if result ** 2 < n:\n",
    "            x = result\n",
    "        else:\n",
    "            y = result\n",
    "    return result\n",
    "\n",
    "print(my_sqrt(2))"
   ]
  },
  {
   "cell_type": "code",
   "execution_count": null,
   "metadata": {},
   "outputs": [],
   "source": [
    "import math\n",
    "\n",
    "def my_sqrt(n):\n",
    "    x, y = 1, n # 양의 정수 -> 1 ~ n\n",
    "    result = 1 # 우리가 추측하는 제곱근의 근사값\n",
    "    \n",
    "    while not math.isclose(result ** 2, n):\n",
    "        #제곱근 제곱과 입력 값의 차이가 적어도 0.0000000001보다 작아지면 그 차이가 거의 없다고 봄\n",
    "        result = (x + y) / 2\n",
    "        # 양쪽 끝 값의 절반을 다시 제곱근의 근사치로 둠\n",
    "        if result ** 2 < n:\n",
    "            x = result\n",
    "        else:\n",
    "            y = result\n",
    "    return result\n",
    "\n",
    "print(my_sqrt(8))"
   ]
  },
  {
   "cell_type": "code",
   "execution_count": null,
   "metadata": {},
   "outputs": [],
   "source": [
    "import math\n",
    "\n",
    "x = int(input(\"양의 정수 x를 입력하세요: \"))\n",
    "a = x - 1\n",
    "i = 0\n",
    "while abs(a ** 2 - x) > 0.00001:\n",
    "    a = (a + (x / a)) / 2\n",
    "    i += 1\n",
    "print(a)\n",
    "print(i)"
   ]
  },
  {
   "cell_type": "code",
   "execution_count": 9,
   "metadata": {},
   "outputs": [],
   "source": [
    "class Circle:\n",
    "    pi = 3.14\n",
    "    x = 0\n",
    "    y = 0\n",
    "    r = 0\n",
    "    \n",
    "    def __init__(self, r, x, y):\n",
    "        self.r = r\n",
    "        self.x = x\n",
    "        self.y = y\n",
    "        \n",
    "    def area(self):\n",
    "        return self.pi * self.r * self.r\n",
    "    \n",
    "    def circumference(self):\n",
    "        return 2 * self.pi * self.r\n",
    "    \n",
    "    def center(self):\n",
    "        return (self.x, self.y)"
   ]
  },
  {
   "cell_type": "code",
   "execution_count": 15,
   "metadata": {},
   "outputs": [
    {
     "name": "stdout",
     "output_type": "stream",
     "text": [
      "원의 넓이 : 28.259999999999998\n",
      "원의 둘레 : 18.84\n"
     ]
    }
   ],
   "source": [
    "circle = Circle(3, 2, 4)\n",
    "\n",
    "print(f'원의 넓이 : {circle.area()}')\n",
    "print(f'원의 둘레 : {circle.circumference()}')"
   ]
  },
  {
   "cell_type": "code",
   "execution_count": null,
   "metadata": {},
   "outputs": [],
   "source": [
    "circle = Circle()\n",
    "\n",
    "circle.center()"
   ]
  },
  {
   "cell_type": "code",
   "execution_count": 12,
   "metadata": {},
   "outputs": [
    {
     "ename": "TypeError",
     "evalue": "__init__() missing 3 required positional arguments: 'r', 'x', and 'y'",
     "output_type": "error",
     "traceback": [
      "\u001b[1;31m---------------------------------------------------------------------------\u001b[0m",
      "\u001b[1;31mTypeError\u001b[0m                                 Traceback (most recent call last)",
      "\u001b[1;32m<ipython-input-12-07e5a2da910b>\u001b[0m in \u001b[0;36m<module>\u001b[1;34m\u001b[0m\n\u001b[1;32m----> 1\u001b[1;33m \u001b[0mcircle\u001b[0m \u001b[1;33m=\u001b[0m \u001b[0mCircle\u001b[0m\u001b[1;33m(\u001b[0m\u001b[1;33m)\u001b[0m\u001b[1;33m\u001b[0m\u001b[1;33m\u001b[0m\u001b[0m\n\u001b[0m\u001b[0;32m      2\u001b[0m \u001b[1;33m\u001b[0m\u001b[0m\n\u001b[0;32m      3\u001b[0m \u001b[0mr\u001b[0m \u001b[1;33m=\u001b[0m \u001b[1;36m3\u001b[0m\u001b[1;33m\u001b[0m\u001b[1;33m\u001b[0m\u001b[0m\n\u001b[0;32m      4\u001b[0m \u001b[0mx\u001b[0m \u001b[1;33m=\u001b[0m \u001b[1;36m2\u001b[0m\u001b[1;33m\u001b[0m\u001b[1;33m\u001b[0m\u001b[0m\n\u001b[0;32m      5\u001b[0m \u001b[0my\u001b[0m \u001b[1;33m=\u001b[0m \u001b[1;36m4\u001b[0m\u001b[1;33m\u001b[0m\u001b[1;33m\u001b[0m\u001b[0m\n",
      "\u001b[1;31mTypeError\u001b[0m: __init__() missing 3 required positional arguments: 'r', 'x', and 'y'"
     ]
    }
   ],
   "source": [
    "circle = Circle()\n",
    "\n",
    "r = 3\n",
    "x = 2\n",
    "y = 4\n",
    "\n",
    "print(f'원의 넓이 : {circle.area()}')\n",
    "print(f'원의 둘레 : {circle.circumference()}')"
   ]
  },
  {
   "cell_type": "code",
   "execution_count": 6,
   "metadata": {},
   "outputs": [],
   "source": [
    "class Animal:\n",
    "    def __init__(self, name):\n",
    "        self.name = name\n",
    "        \n",
    "    def walk(self):\n",
    "        print(f'{self.name}! 걷는다!')\n",
    "        \n",
    "    def eat(self):\n",
    "        print(f'{self.name}! 먹는다!')\n",
    "        \n",
    "class Dog(Animal):\n",
    "    def __init__(self, name):\n",
    "        self.name = name\n",
    "        \n",
    "    def walk(self):\n",
    "        print(f'{self.name}! 달린다!')\n",
    "    \n",
    "    def run(self):\n",
    "        print(f'{self.name}! 달린다!')\n",
    "        \n",
    "class Bird(Animal):\n",
    "    def __init__(self, name):\n",
    "        self.name = name\n",
    "        \n",
    "    def fly(self):\n",
    "        print(f'{self.name}! 푸드덕!')"
   ]
  },
  {
   "cell_type": "code",
   "execution_count": 7,
   "metadata": {},
   "outputs": [
    {
     "name": "stdout",
     "output_type": "stream",
     "text": [
      "멍멍이! 달린다!\n",
      "멍멍이! 달린다!\n"
     ]
    }
   ],
   "source": [
    "dog = Dog('멍멍이')\n",
    "dog.walk()\n",
    "dog.run()"
   ]
  },
  {
   "cell_type": "code",
   "execution_count": 8,
   "metadata": {},
   "outputs": [
    {
     "name": "stdout",
     "output_type": "stream",
     "text": [
      "구구! 걷는다!\n",
      "구구! 먹는다!\n",
      "구구! 푸드덕!\n"
     ]
    }
   ],
   "source": [
    "bird = Bird('구구')\n",
    "bird.walk()\n",
    "bird.eat()\n",
    "bird.fly()"
   ]
  },
  {
   "cell_type": "code",
   "execution_count": 9,
   "metadata": {},
   "outputs": [],
   "source": [
    "class Calculator:\n",
    "    count = 0\n",
    "    \n",
    "    def info(self):\n",
    "        print('나는 계산기 입니다.')\n",
    "        \n",
    "    @staticmethod\n",
    "    def add(a, b):\n",
    "        Calculator.count += 1\n",
    "        print(f'{a} + {b} 는 {a + b} 입니다.')\n",
    "    \n",
    "    @classmethod\n",
    "    def history(cls):\n",
    "        print(f'총 {cls.count}번 계산 했습니다.')"
   ]
  },
  {
   "cell_type": "code",
   "execution_count": 12,
   "metadata": {},
   "outputs": [
    {
     "name": "stdout",
     "output_type": "stream",
     "text": [
      "2 + 3 는 5 입니다.\n"
     ]
    }
   ],
   "source": [
    "Calculator.add(2, 3)"
   ]
  },
  {
   "cell_type": "code",
   "execution_count": 20,
   "metadata": {},
   "outputs": [
    {
     "name": "stdout",
     "output_type": "stream",
     "text": [
      "나는 계산기 입니다.\n",
      "2 + 3 는 5 입니다.\n",
      "총 6번 계산 했습니다.\n"
     ]
    }
   ],
   "source": [
    "calc = Calculator()\n",
    "\n",
    "calc.info()\n",
    "\n",
    "Calculator.add(2, 3)\n",
    "\n",
    "Calculator.history()"
   ]
  },
  {
   "cell_type": "code",
   "execution_count": 7,
   "metadata": {},
   "outputs": [
    {
     "name": "stdout",
     "output_type": "stream",
     "text": [
      "[9]\n"
     ]
    }
   ],
   "source": [
    "numbers = [1, 2, 3, 4, 5, 6, 7, 8, 9]\n",
    "\n",
    "for number in numbers:\n",
    "\tif number != 9:\n",
    "\t\tnumbers.pop(0)\n",
    "\n",
    "print([number])"
   ]
  },
  {
   "cell_type": "code",
   "execution_count": 12,
   "metadata": {},
   "outputs": [
    {
     "name": "stdout",
     "output_type": "stream",
     "text": [
      "[9]\n"
     ]
    }
   ],
   "source": [
    "num = []\n",
    "for number in numbers:\n",
    "    if number != 9:\n",
    "        num.append(number)\n",
    "\n",
    "print([number])\n"
   ]
  },
  {
   "cell_type": "code",
   "execution_count": 7,
   "metadata": {},
   "outputs": [
    {
     "ename": "IndentationError",
     "evalue": "unindent does not match any outer indentation level (<tokenize>, line 4)",
     "output_type": "error",
     "traceback": [
      "\u001b[1;36m  File \u001b[1;32m\"<tokenize>\"\u001b[1;36m, line \u001b[1;32m4\u001b[0m\n\u001b[1;33m    func2(a)\u001b[0m\n\u001b[1;37m    ^\u001b[0m\n\u001b[1;31mIndentationError\u001b[0m\u001b[1;31m:\u001b[0m unindent does not match any outer indentation level\n"
     ]
    }
   ],
   "source": [
    "a = 1\n",
    "def func1():\n",
    "    a = 5\n",
    "   func2(a)\n",
    "\n",
    "def func2():\n",
    "    print(a, end='')\n",
    "    \n",
    "print(func1())\n",
    "print(a)"
   ]
  }
 ],
 "metadata": {
  "kernelspec": {
   "display_name": "Python 3",
   "language": "python",
   "name": "python3"
  },
  "language_info": {
   "codemirror_mode": {
    "name": "ipython",
    "version": 3
   },
   "file_extension": ".py",
   "mimetype": "text/x-python",
   "name": "python",
   "nbconvert_exporter": "python",
   "pygments_lexer": "ipython3",
   "version": "3.7.4"
  }
 },
 "nbformat": 4,
 "nbformat_minor": 2
}
